{
 "cells": [
  {
   "cell_type": "markdown",
   "id": "6302462c",
   "metadata": {},
   "source": [
    "# 2a Pràctica IA: Machine Learning\n"
   ]
  },
  {
   "cell_type": "markdown",
   "id": "797287f0",
   "metadata": {},
   "source": [
    "En aquesta pràctica el nostre objectiu és aplicar diferents classificadors a un problema real. En el nostre cas, prediurem les probabilitats de sobreviure al Titanic segons unes característiques elegides."
   ]
  },
  {
   "cell_type": "markdown",
   "id": "2ec8381b",
   "metadata": {},
   "source": [
    "## 1 Observació de les Dades Porporcionades\n"
   ]
  },
  {
   "cell_type": "markdown",
   "id": "159bc61d",
   "metadata": {},
   "source": [
    "### 1.1 Imports Necessaris"
   ]
  },
  {
   "cell_type": "code",
   "execution_count": 1,
   "id": "14f95f5a",
   "metadata": {},
   "outputs": [],
   "source": [
    "from sklearn.model_selection import train_test_split,GridSearchCV,learning_curve\n",
    "from sklearn.preprocessing import StandardScaler\n",
    "from sklearn.metrics import accuracy_score,log_loss,f1_score,classification_report\n",
    "from sklearn import linear_model\n",
    "import matplotlib.pyplot as plt\n",
    "import seaborn as sns\n",
    "import pandas as pd\n",
    "import numpy as np"
   ]
  },
  {
   "cell_type": "markdown",
   "id": "c96c8ba8",
   "metadata": {},
   "source": [
    "### 1.1 Importació i Descripció del Dataset"
   ]
  },
  {
   "cell_type": "markdown",
   "id": "6026bf10",
   "metadata": {},
   "source": [
    "Primer de tot, ens encarrem de carregar el dataset amb la llibreria pandas."
   ]
  },
  {
   "cell_type": "code",
   "execution_count": 2,
   "id": "1e32c321",
   "metadata": {},
   "outputs": [],
   "source": [
    "data=pd.read_csv(\"./dades.csv\")"
   ]
  },
  {
   "cell_type": "markdown",
   "id": "11955f90",
   "metadata": {},
   "source": [
    "Durant aquesta fase de la EDA, hem de obtenir la màxima informació del dataset possible, mitjançant gràfics i altres mesures. L'objectiu d'aquesta observació de dades és entendre com ens han proporcionat la informació dels passatgers en el dataset per tal de després poder fer una netetja de les dades eficient i de qualitat. Anem a observar les primeres instàncies del dataset:"
   ]
  },
  {
   "cell_type": "code",
   "execution_count": 3,
   "id": "3e545bb4",
   "metadata": {},
   "outputs": [
    {
     "data": {
      "text/html": [
       "<div>\n",
       "<style scoped>\n",
       "    .dataframe tbody tr th:only-of-type {\n",
       "        vertical-align: middle;\n",
       "    }\n",
       "\n",
       "    .dataframe tbody tr th {\n",
       "        vertical-align: top;\n",
       "    }\n",
       "\n",
       "    .dataframe thead th {\n",
       "        text-align: right;\n",
       "    }\n",
       "</style>\n",
       "<table border=\"1\" class=\"dataframe\">\n",
       "  <thead>\n",
       "    <tr style=\"text-align: right;\">\n",
       "      <th></th>\n",
       "      <th>PassengerId</th>\n",
       "      <th>Survived</th>\n",
       "      <th>Pclass</th>\n",
       "      <th>Name</th>\n",
       "      <th>Sex</th>\n",
       "      <th>Age</th>\n",
       "      <th>SibSp</th>\n",
       "      <th>Parch</th>\n",
       "      <th>Ticket</th>\n",
       "      <th>Fare</th>\n",
       "      <th>Cabin</th>\n",
       "      <th>Embarked</th>\n",
       "    </tr>\n",
       "  </thead>\n",
       "  <tbody>\n",
       "    <tr>\n",
       "      <th>0</th>\n",
       "      <td>1</td>\n",
       "      <td>0</td>\n",
       "      <td>3</td>\n",
       "      <td>Braund, Mr. Owen Harris</td>\n",
       "      <td>male</td>\n",
       "      <td>22.0</td>\n",
       "      <td>1</td>\n",
       "      <td>0</td>\n",
       "      <td>A/5 21171</td>\n",
       "      <td>7.2500</td>\n",
       "      <td>NaN</td>\n",
       "      <td>S</td>\n",
       "    </tr>\n",
       "    <tr>\n",
       "      <th>1</th>\n",
       "      <td>2</td>\n",
       "      <td>1</td>\n",
       "      <td>1</td>\n",
       "      <td>Cumings, Mrs. John Bradley (Florence Briggs Th...</td>\n",
       "      <td>female</td>\n",
       "      <td>38.0</td>\n",
       "      <td>1</td>\n",
       "      <td>0</td>\n",
       "      <td>PC 17599</td>\n",
       "      <td>71.2833</td>\n",
       "      <td>C85</td>\n",
       "      <td>C</td>\n",
       "    </tr>\n",
       "    <tr>\n",
       "      <th>2</th>\n",
       "      <td>3</td>\n",
       "      <td>1</td>\n",
       "      <td>3</td>\n",
       "      <td>Heikkinen, Miss. Laina</td>\n",
       "      <td>female</td>\n",
       "      <td>26.0</td>\n",
       "      <td>0</td>\n",
       "      <td>0</td>\n",
       "      <td>STON/O2. 3101282</td>\n",
       "      <td>7.9250</td>\n",
       "      <td>NaN</td>\n",
       "      <td>S</td>\n",
       "    </tr>\n",
       "    <tr>\n",
       "      <th>3</th>\n",
       "      <td>4</td>\n",
       "      <td>1</td>\n",
       "      <td>1</td>\n",
       "      <td>Futrelle, Mrs. Jacques Heath (Lily May Peel)</td>\n",
       "      <td>female</td>\n",
       "      <td>35.0</td>\n",
       "      <td>1</td>\n",
       "      <td>0</td>\n",
       "      <td>113803</td>\n",
       "      <td>53.1000</td>\n",
       "      <td>C123</td>\n",
       "      <td>S</td>\n",
       "    </tr>\n",
       "    <tr>\n",
       "      <th>4</th>\n",
       "      <td>5</td>\n",
       "      <td>0</td>\n",
       "      <td>3</td>\n",
       "      <td>Allen, Mr. William Henry</td>\n",
       "      <td>male</td>\n",
       "      <td>35.0</td>\n",
       "      <td>0</td>\n",
       "      <td>0</td>\n",
       "      <td>373450</td>\n",
       "      <td>8.0500</td>\n",
       "      <td>NaN</td>\n",
       "      <td>S</td>\n",
       "    </tr>\n",
       "  </tbody>\n",
       "</table>\n",
       "</div>"
      ],
      "text/plain": [
       "   PassengerId  Survived  Pclass  \\\n",
       "0            1         0       3   \n",
       "1            2         1       1   \n",
       "2            3         1       3   \n",
       "3            4         1       1   \n",
       "4            5         0       3   \n",
       "\n",
       "                                                Name     Sex   Age  SibSp  \\\n",
       "0                            Braund, Mr. Owen Harris    male  22.0      1   \n",
       "1  Cumings, Mrs. John Bradley (Florence Briggs Th...  female  38.0      1   \n",
       "2                             Heikkinen, Miss. Laina  female  26.0      0   \n",
       "3       Futrelle, Mrs. Jacques Heath (Lily May Peel)  female  35.0      1   \n",
       "4                           Allen, Mr. William Henry    male  35.0      0   \n",
       "\n",
       "   Parch            Ticket     Fare Cabin Embarked  \n",
       "0      0         A/5 21171   7.2500   NaN        S  \n",
       "1      0          PC 17599  71.2833   C85        C  \n",
       "2      0  STON/O2. 3101282   7.9250   NaN        S  \n",
       "3      0            113803  53.1000  C123        S  \n",
       "4      0            373450   8.0500   NaN        S  "
      ]
     },
     "execution_count": 3,
     "metadata": {},
     "output_type": "execute_result"
    }
   ],
   "source": [
    "data.head()"
   ]
  },
  {
   "cell_type": "code",
   "execution_count": 4,
   "id": "2455b8d1",
   "metadata": {},
   "outputs": [
    {
     "data": {
      "text/html": [
       "<div>\n",
       "<style scoped>\n",
       "    .dataframe tbody tr th:only-of-type {\n",
       "        vertical-align: middle;\n",
       "    }\n",
       "\n",
       "    .dataframe tbody tr th {\n",
       "        vertical-align: top;\n",
       "    }\n",
       "\n",
       "    .dataframe thead th {\n",
       "        text-align: right;\n",
       "    }\n",
       "</style>\n",
       "<table border=\"1\" class=\"dataframe\">\n",
       "  <thead>\n",
       "    <tr style=\"text-align: right;\">\n",
       "      <th></th>\n",
       "      <th>PassengerId</th>\n",
       "      <th>Survived</th>\n",
       "      <th>Pclass</th>\n",
       "      <th>Age</th>\n",
       "      <th>SibSp</th>\n",
       "      <th>Parch</th>\n",
       "      <th>Fare</th>\n",
       "    </tr>\n",
       "  </thead>\n",
       "  <tbody>\n",
       "    <tr>\n",
       "      <th>count</th>\n",
       "      <td>891.000000</td>\n",
       "      <td>891.000000</td>\n",
       "      <td>891.000000</td>\n",
       "      <td>714.000000</td>\n",
       "      <td>891.000000</td>\n",
       "      <td>891.000000</td>\n",
       "      <td>891.000000</td>\n",
       "    </tr>\n",
       "    <tr>\n",
       "      <th>mean</th>\n",
       "      <td>446.000000</td>\n",
       "      <td>0.383838</td>\n",
       "      <td>2.308642</td>\n",
       "      <td>29.699118</td>\n",
       "      <td>0.523008</td>\n",
       "      <td>0.381594</td>\n",
       "      <td>32.204208</td>\n",
       "    </tr>\n",
       "    <tr>\n",
       "      <th>std</th>\n",
       "      <td>257.353842</td>\n",
       "      <td>0.486592</td>\n",
       "      <td>0.836071</td>\n",
       "      <td>14.526497</td>\n",
       "      <td>1.102743</td>\n",
       "      <td>0.806057</td>\n",
       "      <td>49.693429</td>\n",
       "    </tr>\n",
       "    <tr>\n",
       "      <th>min</th>\n",
       "      <td>1.000000</td>\n",
       "      <td>0.000000</td>\n",
       "      <td>1.000000</td>\n",
       "      <td>0.420000</td>\n",
       "      <td>0.000000</td>\n",
       "      <td>0.000000</td>\n",
       "      <td>0.000000</td>\n",
       "    </tr>\n",
       "    <tr>\n",
       "      <th>25%</th>\n",
       "      <td>223.500000</td>\n",
       "      <td>0.000000</td>\n",
       "      <td>2.000000</td>\n",
       "      <td>20.125000</td>\n",
       "      <td>0.000000</td>\n",
       "      <td>0.000000</td>\n",
       "      <td>7.910400</td>\n",
       "    </tr>\n",
       "    <tr>\n",
       "      <th>50%</th>\n",
       "      <td>446.000000</td>\n",
       "      <td>0.000000</td>\n",
       "      <td>3.000000</td>\n",
       "      <td>28.000000</td>\n",
       "      <td>0.000000</td>\n",
       "      <td>0.000000</td>\n",
       "      <td>14.454200</td>\n",
       "    </tr>\n",
       "    <tr>\n",
       "      <th>75%</th>\n",
       "      <td>668.500000</td>\n",
       "      <td>1.000000</td>\n",
       "      <td>3.000000</td>\n",
       "      <td>38.000000</td>\n",
       "      <td>1.000000</td>\n",
       "      <td>0.000000</td>\n",
       "      <td>31.000000</td>\n",
       "    </tr>\n",
       "    <tr>\n",
       "      <th>max</th>\n",
       "      <td>891.000000</td>\n",
       "      <td>1.000000</td>\n",
       "      <td>3.000000</td>\n",
       "      <td>80.000000</td>\n",
       "      <td>8.000000</td>\n",
       "      <td>6.000000</td>\n",
       "      <td>512.329200</td>\n",
       "    </tr>\n",
       "  </tbody>\n",
       "</table>\n",
       "</div>"
      ],
      "text/plain": [
       "       PassengerId    Survived      Pclass         Age       SibSp  \\\n",
       "count   891.000000  891.000000  891.000000  714.000000  891.000000   \n",
       "mean    446.000000    0.383838    2.308642   29.699118    0.523008   \n",
       "std     257.353842    0.486592    0.836071   14.526497    1.102743   \n",
       "min       1.000000    0.000000    1.000000    0.420000    0.000000   \n",
       "25%     223.500000    0.000000    2.000000   20.125000    0.000000   \n",
       "50%     446.000000    0.000000    3.000000   28.000000    0.000000   \n",
       "75%     668.500000    1.000000    3.000000   38.000000    1.000000   \n",
       "max     891.000000    1.000000    3.000000   80.000000    8.000000   \n",
       "\n",
       "            Parch        Fare  \n",
       "count  891.000000  891.000000  \n",
       "mean     0.381594   32.204208  \n",
       "std      0.806057   49.693429  \n",
       "min      0.000000    0.000000  \n",
       "25%      0.000000    7.910400  \n",
       "50%      0.000000   14.454200  \n",
       "75%      0.000000   31.000000  \n",
       "max      6.000000  512.329200  "
      ]
     },
     "execution_count": 4,
     "metadata": {},
     "output_type": "execute_result"
    }
   ],
   "source": [
    "data.describe()"
   ]
  },
  {
   "cell_type": "markdown",
   "id": "92b95702",
   "metadata": {},
   "source": [
    "A primera vista, observam que el dataset conté la següent llista de columnes/atributs dels passatgers:\n",
    "1. **PassengerId**: nombre identificador de cada passatger.\n",
    "2. **Survived**: atribut que ens indica si el passatger va sobreviure (1) o va morir (0).\n",
    "3. **Pclass**: columna que califica als passatgers segons la classe a la que pertanyien. En aquesta columna, els valors poden ser 1 (primera classe), 2 (segona classe), 3 (tercera classe). Bàsicament la diferencia entre classes és el preu dels billets.\n",
    "4. **Name**: indica el nom del passatger.\n",
    "5. **Sex**: atribut que indica si el passatger és un home (male) o dona (female). Per tant aquest només podrà prendre 2 valors.\n",
    "6. **Age**: columna que indica l'edat del passatger.\n",
    "7. **SibSp**: atribut booleà el qual ens indica si el passatger tenia germans (siblings) o dona (spouses) a bord.\n",
    "8. **Parch**: atribut booleà que ens indica si el passatger tenia pares (parents) o fills (children) a bord.\n",
    "9. **Ticket**: columna que ens mostra el que pareix algun tipus d'identificador del billet de cada passatger.\n",
    "10. **Fare**: preu que va pagar cada passatger per la compra del billet del vaixell.\n",
    "11. **Cabin**: identificador de la cabina (en cas que en tingués) del passatger.\n",
    "12. **Embarked**: aquesta columna indica per quin port va embarcar al vaixell el passatger (C = Cherbourg, Q = Queenstown, S = Southampton).\n",
    "\n",
    "Per tant, el data set conté 891 mostres amb 11 característiques, descartant la de survived. Una vegada identificat que signifiquen cada una de les columnes podem començar a treure les primeres conclusions dels atributs del nostre dataset."
   ]
  },
  {
   "cell_type": "markdown",
   "id": "f6822fd1",
   "metadata": {},
   "source": [
    "### 1.2 Edat"
   ]
  },
  {
   "cell_type": "markdown",
   "id": "f2c9726c",
   "metadata": {},
   "source": [
    "Primer de tot, veurem la quantitat de gent que hi ha i la mitja d'edat."
   ]
  },
  {
   "cell_type": "code",
   "execution_count": 5,
   "id": "678e9f40",
   "metadata": {},
   "outputs": [
    {
     "data": {
      "image/png": "[encoded data removed]",
      "text/plain": [
       "<Figure size 640x480 with 1 Axes>"
      ]
     },
     "metadata": {},
     "output_type": "display_data"
    }
   ],
   "source": [
    "df_tot = data\n",
    "df_died = data.loc[data['Survived'] == 0]\n",
    "plt.hist(df_tot['Age'], bins=20, alpha=0.5, label='Total')\n",
    "plt.hist(df_died['Age'], bins=20, alpha=0.5, label='Moren')\n",
    "plt.xlabel(\"Edat\")\n",
    "plt.ylabel(\"Quantitat\")\n",
    "plt.title(\"Comparació nombre de morts per rang d'edat\")\n",
    "plt.legend()\n",
    "plt.show()"
   ]
  },
  {
   "cell_type": "markdown",
   "id": "54f0cb98",
   "metadata": {},
   "source": [
    "A l'anterior grafic, podem obervar la quantitat de persones que tenen una edat determinada. A més, també observam damunt cada zona de l'histograma la quantitat de morts que hi hagueren en aquella franja d'edat. Podem veure que la franja d'edat més freqüentada és la de entre 20 i 30 anys. Tot hi que hi ha alguna excepció (com per exemple els nens de entre 0-5 anys), a la majoria de rangs d'edats hi trobem una quantitat de morts bastant proporcional a la quantitat total de persones en aquell rang."
   ]
  },
  {
   "cell_type": "code",
   "execution_count": 6,
   "id": "7d2df5c0",
   "metadata": {},
   "outputs": [
    {
     "data": {
      "text/plain": [
       "<seaborn.axisgrid.FacetGrid at 0x1c8975f2260>"
      ]
     },
     "execution_count": 6,
     "metadata": {},
     "output_type": "execute_result"
    },
    {
     "data": {
      "image/png": "[encoded data removed]",
      "text/plain": [
       "<Figure size 1272.11x300 with 1 Axes>"
      ]
     },
     "metadata": {},
     "output_type": "display_data"
    }
   ],
   "source": [
    "facet = sns.FacetGrid(data, hue=\"Survived\",aspect=4)\n",
    "facet.map(sns.kdeplot,'Age',fill= True)\n",
    "facet.set(xlim=(0, data['Age'].max()))\n",
    "facet.add_legend()"
   ]
  },
  {
   "cell_type": "markdown",
   "id": "26483017",
   "metadata": {},
   "source": [
    "En aquest darrer gràfic, mostram la quantitat de persones que varen morir (a la llegenda 0) i sobreviure (a la llegenda 1) segons l'edat que tenen. Amb aquest grafic, confirmem el que ja preveiem observant l'histograma anterior: cada rang d'edats té una quantitat de morts bastant proporcional al total de persones en aquest. Podem remarcar que la franja d'edat dels \"nens\", tenen una quantitat de supervivents bastant més gran que de morts."
   ]
  },
  {
   "cell_type": "markdown",
   "id": "4634e9d1",
   "metadata": {},
   "source": [
    "### 1.3 Sexe"
   ]
  },
  {
   "cell_type": "code",
   "execution_count": 7,
   "id": "557e8c48",
   "metadata": {},
   "outputs": [
    {
     "data": {
      "image/png": "[encoded data removed]",
      "text/plain": [
       "<Figure size 640x480 with 1 Axes>"
      ]
     },
     "metadata": {},
     "output_type": "display_data"
    }
   ],
   "source": [
    "categories = [\"Homes\", \"Dones\"]\n",
    "classes = [data.loc[(data.Sex == \"male\")].Sex.value_counts()['male'], data.loc[(data.Sex == \"female\")].Sex.value_counts()['female']]\n",
    "moren = [data.loc[(data.Sex == \"male\") & (data.Survived == 0)].Sex.value_counts()['male'], data.loc[(data.Sex == \"female\") & (data.Survived == 0)].Sex.value_counts()['female']]\n",
    "plt.barh(categories, classes)\n",
    "plt.barh(categories, moren)\n",
    "plt.xlabel(\"Quantitat de passatgers\")\n",
    "plt.ylabel(\"Sexe\")\n",
    "plt.title(\"Comparació de passatgers morts segons el sexe\")\n",
    "plt.legend([\"Totals\", \"Morts\"], loc=\"upper right\", fontsize=10)\n",
    "plt.show()"
   ]
  },
  {
   "cell_type": "markdown",
   "id": "de8e1a04",
   "metadata": {},
   "source": [
    "L'anterior grafic, evidencia el que era bastant previsible: el sexe de la persona és un atribut fundamental a l'hora de decidir si un passatger mor o sobreviu. Observam que la gran majoria d'homes varen morir, mentre que l gran majoria de dones varen sobreviure (degut a que als bots salvavides entraven primer els nens i dones)."
   ]
  },
  {
   "cell_type": "code",
   "execution_count": 8,
   "id": "35fa5379",
   "metadata": {},
   "outputs": [
    {
     "data": {
      "text/plain": [
       "<matplotlib.legend.Legend at 0x1c8999c3a30>"
      ]
     },
     "execution_count": 8,
     "metadata": {},
     "output_type": "execute_result"
    },
    {
     "data": {
      "image/png": "[encoded data removed]",
      "text/plain": [
       "<Figure size 640x480 with 1 Axes>"
      ]
     },
     "metadata": {},
     "output_type": "display_data"
    }
   ],
   "source": [
    "mitjaSupervivenciaSexe=pd.concat([data['Sex'], data['Survived']], axis=1).groupby('Sex').Survived.mean()\n",
    "mitjaSupervivenciaSexe.plot(kind='barh')\n",
    "plt.xlabel(\"Tan per 1 de supervivència\")\n",
    "plt.ylabel(\"Sexe\")\n",
    "plt.title(\"Comparació tan per 1 supervivencia segons el sexe\")\n",
    "plt.legend(loc=\"upper right\")"
   ]
  },
  {
   "cell_type": "markdown",
   "id": "cac388aa",
   "metadata": {},
   "source": [
    "Per acabar de confirmar les nostres sospites, hem realitzat aquest grafic on es mostren el tan per 1 d'homes i dones que es varen salvar. Com es es pot veure, la taxa de supervivència és de quasi el 80%, mentre que la dels homes no arriba al 20%."
   ]
  },
  {
   "cell_type": "markdown",
   "id": "ee9f6165",
   "metadata": {},
   "source": [
    "### 1.4 Classe del Passatger"
   ]
  },
  {
   "cell_type": "code",
   "execution_count": 9,
   "id": "9bd977f9",
   "metadata": {},
   "outputs": [
    {
     "data": {
      "image/png": "[encoded data removed]",
      "text/plain": [
       "<Figure size 640x480 with 1 Axes>"
      ]
     },
     "metadata": {},
     "output_type": "display_data"
    }
   ],
   "source": [
    "categories = [\"1a Classe\", \"2na Classe\", \"3ra Classe\"]\n",
    "classes = [data.loc[(data.Pclass == 1)].Pclass.value_counts()[1], data.loc[(data.Pclass == 2)].Pclass.value_counts()[2], data.loc[(data.Pclass == 3)].Pclass.value_counts()[3]]\n",
    "moren = [data.loc[(data.Survived == 0) & (data.Pclass == 1)].Pclass.value_counts()[1], data.loc[(data.Survived == 0) & (data.Pclass == 2)].Pclass.value_counts()[2], data.loc[(data.Survived == 0) & (data.Pclass == 3)].Pclass.value_counts()[3]]\n",
    "plt.barh(categories, classes)\n",
    "plt.barh(categories, moren)\n",
    "plt.xlabel(\"Quantitat de Passatgers\")\n",
    "plt.ylabel(\"Classe del passatger\")\n",
    "plt.title(\"Comparació passatgers morts segons la classe\")\n",
    "plt.legend([\"Totals\", \"Morts\"], loc=\"lower right\", fontsize=10)\n",
    "plt.show()\n"
   ]
  },
  {
   "cell_type": "markdown",
   "id": "73f04b86",
   "metadata": {},
   "source": [
    "En el gràfic anterior, podem veure la quantitat de persones de cada classe que viatjaven al titanic i, de cada una d'aquestes classes, veure quina quantitat de persones varen morir. Podem veure clarament que a primera classe, es varen salvar un percentatge de passatgers més alt que de segona i tercera classe. Aquest grafic ens fa adonar-nos que la classe del passatger és un factor important a l'hora de decidir si un passatger sobreviu o no."
   ]
  },
  {
   "cell_type": "markdown",
   "id": "3d74369d",
   "metadata": {},
   "source": [
    "### 1.5 Port d'Embarcació"
   ]
  },
  {
   "cell_type": "code",
   "execution_count": 10,
   "id": "91333853",
   "metadata": {},
   "outputs": [
    {
     "data": {
      "image/png": "[encoded data removed]",
      "text/plain": [
       "<Figure size 640x480 with 1 Axes>"
      ]
     },
     "metadata": {},
     "output_type": "display_data"
    }
   ],
   "source": [
    "categories = [\"Cherbourg\", \"Queenstown\", \"Southampton\"]\n",
    "classes = [data.loc[(data.Embarked == \"C\")].Embarked.value_counts()['C'], data.loc[(data.Embarked == \"Q\")].Embarked.value_counts()['Q'], data.loc[(data.Embarked == \"S\")].Embarked.value_counts()['S']]\n",
    "moren = [data.loc[(data.Embarked == \"C\") & (data.Survived == 0)].Embarked.value_counts()['C'], data.loc[(data.Embarked == \"Q\") & (data.Survived == 0)].Embarked.value_counts()['Q'], data.loc[(data.Embarked == \"S\") & (data.Survived == 0)].Embarked.value_counts()['S']]\n",
    "plt.barh(categories, classes)\n",
    "plt.barh(categories, moren)\n",
    "plt.xlabel(\"Quantitat de passatgers\")\n",
    "plt.ylabel(\"Port d'embarc\")\n",
    "plt.title(\"Comparació passatgers morts segons el port d'embarc\")\n",
    "plt.legend([\"Totals\", \"Morts\"], loc=\"lower right\", fontsize=10)\n",
    "plt.show()"
   ]
  },
  {
   "cell_type": "markdown",
   "id": "aeb33b4d",
   "metadata": {},
   "source": [
    "A l'anterior grafic, podem obervar la quantita de passatger que varen embarcar a cada pot, a més de la quantitat de morts de passatgers que varen ambaracr en cada un d'ells. Observem que la gran majoria de passatgers varen embarcar a Southampton. En conceqüencia, més persones que varen embarcar en aquest port varen morir. Però en general, no veim una gran desproporció de morts respecte del total de cada classe. Per tant, amb aquest grafic no podem treure grans conclusions, però amb el següent si que podrem."
   ]
  },
  {
   "cell_type": "code",
   "execution_count": 11,
   "id": "2d1fda40",
   "metadata": {},
   "outputs": [
    {
     "data": {
      "text/plain": [
       "<matplotlib.legend.Legend at 0x1c89bde9e10>"
      ]
     },
     "execution_count": 11,
     "metadata": {},
     "output_type": "execute_result"
    },
    {
     "data": {
      "image/png": "[encoded data removed]",
      "text/plain": [
       "<Figure size 640x480 with 1 Axes>"
      ]
     },
     "metadata": {},
     "output_type": "display_data"
    }
   ],
   "source": [
    "mitjaSupervivenciaEmbarked=pd.concat([data['Embarked'], data['Survived']], axis=1).groupby('Embarked').Survived.mean()\n",
    "mitjaSupervivenciaEmbarked.plot(kind='barh')\n",
    "plt.xlabel(\"Tan per 1 de supervivència\")\n",
    "plt.ylabel(\"Port d'embarc\")\n",
    "plt.legend(loc=\"upper right\")"
   ]
  },
  {
   "cell_type": "markdown",
   "id": "1299eac1",
   "metadata": {},
   "source": [
    "Com observam, la taxa de supervivència dels passatgers de Cherbourg és lleugerament més alta que la de la resta, i entre la de Queenston i Southampton no hi ha una gran diferència. Per tant, tot hi no ser un atribut crucial, s'haurà de tenir en compte per poder decidir si un passatger mor o sobreviu."
   ]
  },
  {
   "cell_type": "markdown",
   "id": "7fb728dd",
   "metadata": {},
   "source": [
    "### 1.6 Familiars a bord"
   ]
  },
  {
   "cell_type": "code",
   "execution_count": 12,
   "id": "e15befae",
   "metadata": {},
   "outputs": [
    {
     "data": {
      "image/png": "[encoded data removed]",
      "text/plain": [
       "<Figure size 640x480 with 1 Axes>"
      ]
     },
     "metadata": {},
     "output_type": "display_data"
    }
   ],
   "source": [
    "plt.hist(data[data[\"Survived\"] == 0][\"SibSp\"], bins=range(0, data[\"SibSp\"].max()+1), alpha=0.5, label=\"Morts\")\n",
    "plt.hist(data[data[\"Survived\"] == 1][\"SibSp\"], bins=range(0, data[\"SibSp\"].max()+1), alpha=0.5, label=\"Supervivents\")\n",
    "plt.xlabel(\"Nombre de germans/esposa\")\n",
    "plt.ylabel(\"Quantitat de passatgers\")\n",
    "plt.title(\"Supervivents i Morts en funció de la quantitat de germans/esposa\")\n",
    "plt.legend()\n",
    "plt.show()"
   ]
  },
  {
   "cell_type": "code",
   "execution_count": 13,
   "id": "43bca3e8",
   "metadata": {},
   "outputs": [
    {
     "data": {
      "image/png": "[encoded data removed]",
      "text/plain": [
       "<Figure size 640x480 with 1 Axes>"
      ]
     },
     "metadata": {},
     "output_type": "display_data"
    }
   ],
   "source": [
    "plt.hist(data[data[\"Survived\"] == 0][\"Parch\"], bins=range(0, data[\"Parch\"].max()+1), alpha=0.5, label=\"Morts\")\n",
    "plt.hist(data[data[\"Survived\"] == 1][\"Parch\"], bins=range(0, data[\"Parch\"].max()+1), alpha=0.5, label=\"Supervivents\")\n",
    "plt.xlabel(\"Nombre de pares/fills\")\n",
    "plt.ylabel(\"Quantitat de passatgers\")\n",
    "plt.title(\"Supervivents i Morts en funció de la quantitat de pares/fills\")\n",
    "plt.legend()\n",
    "plt.show()"
   ]
  },
  {
   "cell_type": "markdown",
   "id": "938c3135",
   "metadata": {},
   "source": [
    "Els dos grafics anteriors ens mostren la quantitat de persones que varen morir/sobreviure a l'enfornsament, en funció de la quantitat de familiars que duien a bord. Per una part hem fet la comparació amb la quantitat de germans/esposa i per altre amb la quantitat de pares/fills. Les conclusions que en podem extreure d'quests grafics és que:\n",
    "\n",
    "- Amb entre 0-1 familiars a bord (germans/esposa/pares/fills), la quantitat de morts és considerablament més gran que la de supervivents (més del doble).\n",
    "- Amb 5 familiars (germans/esposa/pares/fills) o més, la quantitat de morts és molt superior a la seupervivents.\n",
    "- Amb entre 1-4 pares/fills a bord, la quantitat de supervivents és molt parella a la quantitat de morts, o fins hi tot lleugerament major.\n",
    "- Amb 2 germans/esposa o més, la quantitat de morts sempre és superior a la de supervivents.\n",
    "\n",
    "Després d'extreure aquestes dades, podem dir que en líneas generals, els passatgers es salvaben més si tenien entre 1-3 familiars. Per tant, podem concloure que la quantitat de familiars, també és un factor a tenir en compte en la decisió de si un passatger sobreviu o mor."
   ]
  },
  {
   "cell_type": "markdown",
   "id": "0148be52",
   "metadata": {},
   "source": [
    "### 1.7 Conclusions"
   ]
  },
  {
   "cell_type": "markdown",
   "id": "d603fb04",
   "metadata": {},
   "source": [
    "Després d'haver explorat tot el nostre dataset del Titanic, obtenim aquestes conclusions:\n",
    "1. La majoria de la gent té entre 20-30 anys.\n",
    "2. La majoria són homes.\n",
    "3. El % de supervivència en dones és molt major que els homes, suposant que tenien lloc abans en els bots auxiliars.\n",
    "4. La majoria estava a tercera classe, suposam que era la més econòmica.\n",
    "5. Molta més gent de primera classe es va salvar que gent de tercera o segona classe (proporcionalment a la qauntitat total de persones de la classe)\n",
    "6. Atributs com el port d'embarcació, l'edat o la quantitat de familiars a bord, son factors a tenir en compte donat el seu impacte en la quantitat de morts o supervivents, però no son tan diferencials com el sexe o la classe del passatger."
   ]
  },
  {
   "cell_type": "markdown",
   "id": "493d481d",
   "metadata": {},
   "source": [
    "## 2 Manipulació dades\n"
   ]
  },
  {
   "cell_type": "markdown",
   "id": "0453beb7",
   "metadata": {},
   "source": [
    "EXPLICACIO GENERAL"
   ]
  },
  {
   "cell_type": "markdown",
   "id": "4cbf6ba5",
   "metadata": {},
   "source": [
    "### 2.1 Eliminació de Dades irrellevants"
   ]
  },
  {
   "cell_type": "markdown",
   "id": "e5742c65",
   "metadata": {},
   "source": [
    "Després haver observat totes les dades i treure conclusions, anam a manipular les dades a un format correcte per al seu posterior ús en una fase d'entrenament. Primer de tot anem a veure quants de NaN valors tenim al nostre dataset."
   ]
  },
  {
   "cell_type": "code",
   "execution_count": 14,
   "id": "46d25892",
   "metadata": {},
   "outputs": [
    {
     "data": {
      "text/plain": [
       "<AxesSubplot:>"
      ]
     },
     "execution_count": 14,
     "metadata": {},
     "output_type": "execute_result"
    },
    {
     "data": {
      "image/png": "[encoded data removed]",
      "text/plain": [
       "<Figure size 640x480 with 1 Axes>"
      ]
     },
     "metadata": {},
     "output_type": "display_data"
    }
   ],
   "source": [
    "sns.heatmap(data.isnull(),yticklabels=False,cbar=False,cmap='viridis')"
   ]
  },
  {
   "cell_type": "code",
   "execution_count": 15,
   "id": "ea3e7d92",
   "metadata": {},
   "outputs": [
    {
     "name": "stdout",
     "output_type": "stream",
     "text": [
      "La quantitat de NAN's en Cabin es 687/891\n"
     ]
    }
   ],
   "source": [
    "print(\"La quantitat de NAN's en Cabin es {}/{}\".format(data['Cabin'].isna().sum(),len(data)))"
   ]
  },
  {
   "cell_type": "markdown",
   "id": "179c238a",
   "metadata": {},
   "source": [
    "Després d'haver observat que la major part de valors de la columna \"Cabin\" son NAN's, arribem a la conclusió que el més adeqüat és eliminar la columna. També podem observar que tant PassengerID com ticket i Name ens serveixen de identificadors, informació que no serà rellevant a l'hora de determinar si un passatger sobreviurà o morirà. Per tant, també podem eliminar aquestes columnes."
   ]
  },
  {
   "cell_type": "code",
   "execution_count": 16,
   "id": "c6b667e6",
   "metadata": {},
   "outputs": [],
   "source": [
    "#Eliminam les columnes \"PassengerId\",\"Ticket\",\"Name\",\"Cabin\".\n",
    "data.drop([\"PassengerId\",\"Ticket\",\"Name\",\"Cabin\"],inplace=True,axis=1)"
   ]
  },
  {
   "cell_type": "code",
   "execution_count": 17,
   "id": "cfb79b0e",
   "metadata": {},
   "outputs": [
    {
     "data": {
      "text/html": [
       "<div>\n",
       "<style scoped>\n",
       "    .dataframe tbody tr th:only-of-type {\n",
       "        vertical-align: middle;\n",
       "    }\n",
       "\n",
       "    .dataframe tbody tr th {\n",
       "        vertical-align: top;\n",
       "    }\n",
       "\n",
       "    .dataframe thead th {\n",
       "        text-align: right;\n",
       "    }\n",
       "</style>\n",
       "<table border=\"1\" class=\"dataframe\">\n",
       "  <thead>\n",
       "    <tr style=\"text-align: right;\">\n",
       "      <th></th>\n",
       "      <th>Survived</th>\n",
       "      <th>Pclass</th>\n",
       "      <th>Sex</th>\n",
       "      <th>Age</th>\n",
       "      <th>SibSp</th>\n",
       "      <th>Parch</th>\n",
       "      <th>Fare</th>\n",
       "      <th>Embarked</th>\n",
       "    </tr>\n",
       "  </thead>\n",
       "  <tbody>\n",
       "    <tr>\n",
       "      <th>0</th>\n",
       "      <td>0</td>\n",
       "      <td>3</td>\n",
       "      <td>male</td>\n",
       "      <td>22.0</td>\n",
       "      <td>1</td>\n",
       "      <td>0</td>\n",
       "      <td>7.2500</td>\n",
       "      <td>S</td>\n",
       "    </tr>\n",
       "    <tr>\n",
       "      <th>1</th>\n",
       "      <td>1</td>\n",
       "      <td>1</td>\n",
       "      <td>female</td>\n",
       "      <td>38.0</td>\n",
       "      <td>1</td>\n",
       "      <td>0</td>\n",
       "      <td>71.2833</td>\n",
       "      <td>C</td>\n",
       "    </tr>\n",
       "    <tr>\n",
       "      <th>2</th>\n",
       "      <td>1</td>\n",
       "      <td>3</td>\n",
       "      <td>female</td>\n",
       "      <td>26.0</td>\n",
       "      <td>0</td>\n",
       "      <td>0</td>\n",
       "      <td>7.9250</td>\n",
       "      <td>S</td>\n",
       "    </tr>\n",
       "    <tr>\n",
       "      <th>3</th>\n",
       "      <td>1</td>\n",
       "      <td>1</td>\n",
       "      <td>female</td>\n",
       "      <td>35.0</td>\n",
       "      <td>1</td>\n",
       "      <td>0</td>\n",
       "      <td>53.1000</td>\n",
       "      <td>S</td>\n",
       "    </tr>\n",
       "    <tr>\n",
       "      <th>4</th>\n",
       "      <td>0</td>\n",
       "      <td>3</td>\n",
       "      <td>male</td>\n",
       "      <td>35.0</td>\n",
       "      <td>0</td>\n",
       "      <td>0</td>\n",
       "      <td>8.0500</td>\n",
       "      <td>S</td>\n",
       "    </tr>\n",
       "  </tbody>\n",
       "</table>\n",
       "</div>"
      ],
      "text/plain": [
       "   Survived  Pclass     Sex   Age  SibSp  Parch     Fare Embarked\n",
       "0         0       3    male  22.0      1      0   7.2500        S\n",
       "1         1       1  female  38.0      1      0  71.2833        C\n",
       "2         1       3  female  26.0      0      0   7.9250        S\n",
       "3         1       1  female  35.0      1      0  53.1000        S\n",
       "4         0       3    male  35.0      0      0   8.0500        S"
      ]
     },
     "execution_count": 17,
     "metadata": {},
     "output_type": "execute_result"
    }
   ],
   "source": [
    "data.head()"
   ]
  },
  {
   "cell_type": "markdown",
   "id": "f7820cb9",
   "metadata": {},
   "source": [
    "### 2.2 Emplenar Caselles amb Valors NAN Restants"
   ]
  },
  {
   "cell_type": "markdown",
   "id": "2abfee4b",
   "metadata": {},
   "source": [
    "Ara, després d'haver eliminat les característiques que trobam innecessàries o millor dit, no rellevants, observarem si ens falta informació a la resta de columnes."
   ]
  },
  {
   "cell_type": "code",
   "execution_count": 18,
   "id": "36f32e59",
   "metadata": {},
   "outputs": [
    {
     "data": {
      "text/html": [
       "<div>\n",
       "<style scoped>\n",
       "    .dataframe tbody tr th:only-of-type {\n",
       "        vertical-align: middle;\n",
       "    }\n",
       "\n",
       "    .dataframe tbody tr th {\n",
       "        vertical-align: top;\n",
       "    }\n",
       "\n",
       "    .dataframe thead th {\n",
       "        text-align: right;\n",
       "    }\n",
       "</style>\n",
       "<table border=\"1\" class=\"dataframe\">\n",
       "  <thead>\n",
       "    <tr style=\"text-align: right;\">\n",
       "      <th></th>\n",
       "      <th>Total</th>\n",
       "      <th>percentatge</th>\n",
       "    </tr>\n",
       "  </thead>\n",
       "  <tbody>\n",
       "    <tr>\n",
       "      <th>Age</th>\n",
       "      <td>177</td>\n",
       "      <td>19.865320</td>\n",
       "    </tr>\n",
       "    <tr>\n",
       "      <th>Embarked</th>\n",
       "      <td>2</td>\n",
       "      <td>0.224467</td>\n",
       "    </tr>\n",
       "  </tbody>\n",
       "</table>\n",
       "</div>"
      ],
      "text/plain": [
       "          Total  percentatge\n",
       "Age         177    19.865320\n",
       "Embarked      2     0.224467"
      ]
     },
     "execution_count": 18,
     "metadata": {},
     "output_type": "execute_result"
    }
   ],
   "source": [
    "total = data.isnull().sum().sort_values(ascending = False)\n",
    "percentatge = (data.isnull().sum()/data.isnull().count()*100).sort_values(ascending = False)\n",
    "ms=pd.concat([total, percentatge], axis=1, keys=['Total', 'percentatge'])\n",
    "ms= ms[ms[\"percentatge\"] > 0]\n",
    "ms"
   ]
  },
  {
   "cell_type": "markdown",
   "id": "c81862f7",
   "metadata": {},
   "source": [
    "Com podem observar, ens falten 177 valors per a l'edat i 2 per a Embarked. Ens centrarem principalment en l'edat ja que és una característica molt més important i que té més relació amb la supervivència. L'opció més viable és substituir tots aquests valors per la mitjana. A més, eliminarem les dues files amb el valor NaN de Embarked."
   ]
  },
  {
   "cell_type": "code",
   "execution_count": 19,
   "id": "6d2863fd",
   "metadata": {},
   "outputs": [],
   "source": [
    "# Emplenam els 177 valors NAN de la columna \"Age\" amb la mitjana\n",
    "data['Age'].fillna(value=data['Age'].median(),inplace=True)"
   ]
  },
  {
   "cell_type": "code",
   "execution_count": 20,
   "id": "5af6fd53",
   "metadata": {},
   "outputs": [],
   "source": [
    "# Eliminam les 2 files que tenen el valor de \"Embarked\" a NAN\n",
    "data.dropna(subset=['Embarked'],inplace=True)"
   ]
  },
  {
   "cell_type": "markdown",
   "id": "e0ec27c7",
   "metadata": {},
   "source": [
    "### 2.3 Dades Categòriques"
   ]
  },
  {
   "cell_type": "markdown",
   "id": "e09824d5",
   "metadata": {},
   "source": [
    "En aquesta fase de la neteja de dades obtindrem les dades categòriques i les transformarem a numèriques per a poder entrenar amb elles el nostre model. "
   ]
  },
  {
   "cell_type": "code",
   "execution_count": 21,
   "id": "5c423adc",
   "metadata": {},
   "outputs": [
    {
     "data": {
      "text/html": [
       "<div>\n",
       "<style scoped>\n",
       "    .dataframe tbody tr th:only-of-type {\n",
       "        vertical-align: middle;\n",
       "    }\n",
       "\n",
       "    .dataframe tbody tr th {\n",
       "        vertical-align: top;\n",
       "    }\n",
       "\n",
       "    .dataframe thead th {\n",
       "        text-align: right;\n",
       "    }\n",
       "</style>\n",
       "<table border=\"1\" class=\"dataframe\">\n",
       "  <thead>\n",
       "    <tr style=\"text-align: right;\">\n",
       "      <th></th>\n",
       "      <th>Survived</th>\n",
       "      <th>Pclass</th>\n",
       "      <th>Sex</th>\n",
       "      <th>Age</th>\n",
       "      <th>SibSp</th>\n",
       "      <th>Parch</th>\n",
       "      <th>Fare</th>\n",
       "      <th>Embarked</th>\n",
       "    </tr>\n",
       "  </thead>\n",
       "  <tbody>\n",
       "    <tr>\n",
       "      <th>0</th>\n",
       "      <td>0</td>\n",
       "      <td>3</td>\n",
       "      <td>male</td>\n",
       "      <td>22.0</td>\n",
       "      <td>1</td>\n",
       "      <td>0</td>\n",
       "      <td>7.2500</td>\n",
       "      <td>S</td>\n",
       "    </tr>\n",
       "    <tr>\n",
       "      <th>1</th>\n",
       "      <td>1</td>\n",
       "      <td>1</td>\n",
       "      <td>female</td>\n",
       "      <td>38.0</td>\n",
       "      <td>1</td>\n",
       "      <td>0</td>\n",
       "      <td>71.2833</td>\n",
       "      <td>C</td>\n",
       "    </tr>\n",
       "    <tr>\n",
       "      <th>2</th>\n",
       "      <td>1</td>\n",
       "      <td>3</td>\n",
       "      <td>female</td>\n",
       "      <td>26.0</td>\n",
       "      <td>0</td>\n",
       "      <td>0</td>\n",
       "      <td>7.9250</td>\n",
       "      <td>S</td>\n",
       "    </tr>\n",
       "    <tr>\n",
       "      <th>3</th>\n",
       "      <td>1</td>\n",
       "      <td>1</td>\n",
       "      <td>female</td>\n",
       "      <td>35.0</td>\n",
       "      <td>1</td>\n",
       "      <td>0</td>\n",
       "      <td>53.1000</td>\n",
       "      <td>S</td>\n",
       "    </tr>\n",
       "    <tr>\n",
       "      <th>4</th>\n",
       "      <td>0</td>\n",
       "      <td>3</td>\n",
       "      <td>male</td>\n",
       "      <td>35.0</td>\n",
       "      <td>0</td>\n",
       "      <td>0</td>\n",
       "      <td>8.0500</td>\n",
       "      <td>S</td>\n",
       "    </tr>\n",
       "  </tbody>\n",
       "</table>\n",
       "</div>"
      ],
      "text/plain": [
       "   Survived  Pclass     Sex   Age  SibSp  Parch     Fare Embarked\n",
       "0         0       3    male  22.0      1      0   7.2500        S\n",
       "1         1       1  female  38.0      1      0  71.2833        C\n",
       "2         1       3  female  26.0      0      0   7.9250        S\n",
       "3         1       1  female  35.0      1      0  53.1000        S\n",
       "4         0       3    male  35.0      0      0   8.0500        S"
      ]
     },
     "execution_count": 21,
     "metadata": {},
     "output_type": "execute_result"
    }
   ],
   "source": [
    "data.head()"
   ]
  },
  {
   "cell_type": "markdown",
   "id": "0091c30d",
   "metadata": {},
   "source": [
    "Tenim dues columnes categòriques, el \"sexe\" i \"Embarked\". Utilitzarem una substitució per 1 en el cas de home i 0 en el cas de dona ja que tan sols hi ha dos possibles valors. En el cas de Embarked i , utilitzarem el one hot encoding (hi ha 3 possibles valors), on es crearan 3 noves columnes que representaran els 3 ports possibles d'embarcament al vaixell (S, C, Q). En aquestes columnes, s'indicarà si un determinat passatger va embarcar (1) o no (0) en aquest determinat port. "
   ]
  },
  {
   "cell_type": "code",
   "execution_count": 22,
   "id": "56eddd71",
   "metadata": {},
   "outputs": [],
   "source": [
    "data['Sex']=data['Sex'].map({'male':1,'female':0}) #Canviam els valors de sexe\n",
    "embark=data.pop('Embarked')\n",
    "ohe_embark=pd.get_dummies(embark,prefix='embk')\n",
    "data=pd.concat([data.reset_index(drop=True),ohe_embark.reset_index(drop=True)],axis=1,sort=False)\n"
   ]
  },
  {
   "cell_type": "markdown",
   "id": "778a3dd7",
   "metadata": {},
   "source": [
    "Tot i no ser una dada categòrica, plantejarem la mateixa estratègia per a la classe del passatger. Utilitzarem el one hot encoding per crear 3 noves columnes que substituiran a \"Pclass\". Dintre de cada una d'aquestes indicarem amb un valor booleà si aquest determinat passatger pertany (1) o no (0) a aquesta classe determinada."
   ]
  },
  {
   "cell_type": "code",
   "execution_count": 23,
   "id": "3a312846",
   "metadata": {},
   "outputs": [],
   "source": [
    "pclass=data.pop('Pclass')\n",
    "ohe_class=pd.get_dummies(pclass,prefix='class')\n",
    "data=pd.concat([data.reset_index(drop=True),ohe_class.reset_index(drop=True)],axis=1,sort=False)\n"
   ]
  },
  {
   "cell_type": "code",
   "execution_count": 24,
   "id": "815f7998",
   "metadata": {},
   "outputs": [
    {
     "data": {
      "text/html": [
       "<div>\n",
       "<style scoped>\n",
       "    .dataframe tbody tr th:only-of-type {\n",
       "        vertical-align: middle;\n",
       "    }\n",
       "\n",
       "    .dataframe tbody tr th {\n",
       "        vertical-align: top;\n",
       "    }\n",
       "\n",
       "    .dataframe thead th {\n",
       "        text-align: right;\n",
       "    }\n",
       "</style>\n",
       "<table border=\"1\" class=\"dataframe\">\n",
       "  <thead>\n",
       "    <tr style=\"text-align: right;\">\n",
       "      <th></th>\n",
       "      <th>Survived</th>\n",
       "      <th>Sex</th>\n",
       "      <th>Age</th>\n",
       "      <th>SibSp</th>\n",
       "      <th>Parch</th>\n",
       "      <th>Fare</th>\n",
       "      <th>embk_C</th>\n",
       "      <th>embk_Q</th>\n",
       "      <th>embk_S</th>\n",
       "      <th>class_1</th>\n",
       "      <th>class_2</th>\n",
       "      <th>class_3</th>\n",
       "    </tr>\n",
       "  </thead>\n",
       "  <tbody>\n",
       "    <tr>\n",
       "      <th>0</th>\n",
       "      <td>0</td>\n",
       "      <td>1</td>\n",
       "      <td>22.0</td>\n",
       "      <td>1</td>\n",
       "      <td>0</td>\n",
       "      <td>7.2500</td>\n",
       "      <td>0</td>\n",
       "      <td>0</td>\n",
       "      <td>1</td>\n",
       "      <td>0</td>\n",
       "      <td>0</td>\n",
       "      <td>1</td>\n",
       "    </tr>\n",
       "    <tr>\n",
       "      <th>1</th>\n",
       "      <td>1</td>\n",
       "      <td>0</td>\n",
       "      <td>38.0</td>\n",
       "      <td>1</td>\n",
       "      <td>0</td>\n",
       "      <td>71.2833</td>\n",
       "      <td>1</td>\n",
       "      <td>0</td>\n",
       "      <td>0</td>\n",
       "      <td>1</td>\n",
       "      <td>0</td>\n",
       "      <td>0</td>\n",
       "    </tr>\n",
       "    <tr>\n",
       "      <th>2</th>\n",
       "      <td>1</td>\n",
       "      <td>0</td>\n",
       "      <td>26.0</td>\n",
       "      <td>0</td>\n",
       "      <td>0</td>\n",
       "      <td>7.9250</td>\n",
       "      <td>0</td>\n",
       "      <td>0</td>\n",
       "      <td>1</td>\n",
       "      <td>0</td>\n",
       "      <td>0</td>\n",
       "      <td>1</td>\n",
       "    </tr>\n",
       "    <tr>\n",
       "      <th>3</th>\n",
       "      <td>1</td>\n",
       "      <td>0</td>\n",
       "      <td>35.0</td>\n",
       "      <td>1</td>\n",
       "      <td>0</td>\n",
       "      <td>53.1000</td>\n",
       "      <td>0</td>\n",
       "      <td>0</td>\n",
       "      <td>1</td>\n",
       "      <td>1</td>\n",
       "      <td>0</td>\n",
       "      <td>0</td>\n",
       "    </tr>\n",
       "    <tr>\n",
       "      <th>4</th>\n",
       "      <td>0</td>\n",
       "      <td>1</td>\n",
       "      <td>35.0</td>\n",
       "      <td>0</td>\n",
       "      <td>0</td>\n",
       "      <td>8.0500</td>\n",
       "      <td>0</td>\n",
       "      <td>0</td>\n",
       "      <td>1</td>\n",
       "      <td>0</td>\n",
       "      <td>0</td>\n",
       "      <td>1</td>\n",
       "    </tr>\n",
       "  </tbody>\n",
       "</table>\n",
       "</div>"
      ],
      "text/plain": [
       "   Survived  Sex   Age  SibSp  Parch     Fare  embk_C  embk_Q  embk_S  \\\n",
       "0         0    1  22.0      1      0   7.2500       0       0       1   \n",
       "1         1    0  38.0      1      0  71.2833       1       0       0   \n",
       "2         1    0  26.0      0      0   7.9250       0       0       1   \n",
       "3         1    0  35.0      1      0  53.1000       0       0       1   \n",
       "4         0    1  35.0      0      0   8.0500       0       0       1   \n",
       "\n",
       "   class_1  class_2  class_3  \n",
       "0        0        0        1  \n",
       "1        1        0        0  \n",
       "2        0        0        1  \n",
       "3        1        0        0  \n",
       "4        0        0        1  "
      ]
     },
     "execution_count": 24,
     "metadata": {},
     "output_type": "execute_result"
    }
   ],
   "source": [
    "data.head()"
   ]
  },
  {
   "cell_type": "markdown",
   "id": "6d7d94b4",
   "metadata": {},
   "source": [
    "### 2.3 Normalització de Dades"
   ]
  },
  {
   "cell_type": "markdown",
   "id": "59c2ffa9",
   "metadata": {},
   "source": [
    "Com a darrera passa per a tenir les dades netes, hauríem de normalitzar les columnes amb valors numèrics alts com Age o Fare. Utilitzarem l'StandardScaler de la llibreria sklearn."
   ]
  },
  {
   "cell_type": "code",
   "execution_count": 25,
   "id": "b1e26fce",
   "metadata": {},
   "outputs": [
    {
     "data": {
      "text/html": [
       "<div>\n",
       "<style scoped>\n",
       "    .dataframe tbody tr th:only-of-type {\n",
       "        vertical-align: middle;\n",
       "    }\n",
       "\n",
       "    .dataframe tbody tr th {\n",
       "        vertical-align: top;\n",
       "    }\n",
       "\n",
       "    .dataframe thead th {\n",
       "        text-align: right;\n",
       "    }\n",
       "</style>\n",
       "<table border=\"1\" class=\"dataframe\">\n",
       "  <thead>\n",
       "    <tr style=\"text-align: right;\">\n",
       "      <th></th>\n",
       "      <th>Survived</th>\n",
       "      <th>Sex</th>\n",
       "      <th>Age</th>\n",
       "      <th>SibSp</th>\n",
       "      <th>Parch</th>\n",
       "      <th>Fare</th>\n",
       "      <th>embk_C</th>\n",
       "      <th>embk_Q</th>\n",
       "      <th>embk_S</th>\n",
       "      <th>class_1</th>\n",
       "      <th>class_2</th>\n",
       "      <th>class_3</th>\n",
       "    </tr>\n",
       "  </thead>\n",
       "  <tbody>\n",
       "    <tr>\n",
       "      <th>0</th>\n",
       "      <td>0</td>\n",
       "      <td>1</td>\n",
       "      <td>-0.563674</td>\n",
       "      <td>0.431350</td>\n",
       "      <td>-0.474326</td>\n",
       "      <td>-0.500240</td>\n",
       "      <td>0</td>\n",
       "      <td>0</td>\n",
       "      <td>1</td>\n",
       "      <td>0</td>\n",
       "      <td>0</td>\n",
       "      <td>1</td>\n",
       "    </tr>\n",
       "    <tr>\n",
       "      <th>1</th>\n",
       "      <td>1</td>\n",
       "      <td>0</td>\n",
       "      <td>0.669217</td>\n",
       "      <td>0.431350</td>\n",
       "      <td>-0.474326</td>\n",
       "      <td>0.788947</td>\n",
       "      <td>1</td>\n",
       "      <td>0</td>\n",
       "      <td>0</td>\n",
       "      <td>1</td>\n",
       "      <td>0</td>\n",
       "      <td>0</td>\n",
       "    </tr>\n",
       "    <tr>\n",
       "      <th>2</th>\n",
       "      <td>1</td>\n",
       "      <td>0</td>\n",
       "      <td>-0.255451</td>\n",
       "      <td>-0.475199</td>\n",
       "      <td>-0.474326</td>\n",
       "      <td>-0.486650</td>\n",
       "      <td>0</td>\n",
       "      <td>0</td>\n",
       "      <td>1</td>\n",
       "      <td>0</td>\n",
       "      <td>0</td>\n",
       "      <td>1</td>\n",
       "    </tr>\n",
       "    <tr>\n",
       "      <th>3</th>\n",
       "      <td>1</td>\n",
       "      <td>0</td>\n",
       "      <td>0.438050</td>\n",
       "      <td>0.431350</td>\n",
       "      <td>-0.474326</td>\n",
       "      <td>0.422861</td>\n",
       "      <td>0</td>\n",
       "      <td>0</td>\n",
       "      <td>1</td>\n",
       "      <td>1</td>\n",
       "      <td>0</td>\n",
       "      <td>0</td>\n",
       "    </tr>\n",
       "    <tr>\n",
       "      <th>4</th>\n",
       "      <td>0</td>\n",
       "      <td>1</td>\n",
       "      <td>0.438050</td>\n",
       "      <td>-0.475199</td>\n",
       "      <td>-0.474326</td>\n",
       "      <td>-0.484133</td>\n",
       "      <td>0</td>\n",
       "      <td>0</td>\n",
       "      <td>1</td>\n",
       "      <td>0</td>\n",
       "      <td>0</td>\n",
       "      <td>1</td>\n",
       "    </tr>\n",
       "  </tbody>\n",
       "</table>\n",
       "</div>"
      ],
      "text/plain": [
       "   Survived  Sex       Age     SibSp     Parch      Fare  embk_C  embk_Q  \\\n",
       "0         0    1 -0.563674  0.431350 -0.474326 -0.500240       0       0   \n",
       "1         1    0  0.669217  0.431350 -0.474326  0.788947       1       0   \n",
       "2         1    0 -0.255451 -0.475199 -0.474326 -0.486650       0       0   \n",
       "3         1    0  0.438050  0.431350 -0.474326  0.422861       0       0   \n",
       "4         0    1  0.438050 -0.475199 -0.474326 -0.484133       0       0   \n",
       "\n",
       "   embk_S  class_1  class_2  class_3  \n",
       "0       1        0        0        1  \n",
       "1       0        1        0        0  \n",
       "2       1        0        0        1  \n",
       "3       1        1        0        0  \n",
       "4       1        0        0        1  "
      ]
     },
     "execution_count": 25,
     "metadata": {},
     "output_type": "execute_result"
    }
   ],
   "source": [
    "# Normalització de Dades\n",
    "scaler = StandardScaler()\n",
    "data.Age=scaler.fit_transform(data.Age.values.reshape(-1,1))\n",
    "data.Fare=scaler.fit_transform(data.Fare.values.reshape(-1,1))\n",
    "data.SibSp=scaler.fit_transform(data.SibSp.values.reshape(-1,1))\n",
    "data.Parch=scaler.fit_transform(data.Parch.values.reshape(-1,1))\n",
    "data.head()"
   ]
  },
  {
   "cell_type": "code",
   "execution_count": 26,
   "id": "fce605ca",
   "metadata": {
    "scrolled": true
   },
   "outputs": [
    {
     "data": {
      "text/plain": [
       "280    0\n",
       "434    1\n",
       "39     1\n",
       "417    0\n",
       "584    1\n",
       "      ..\n",
       "819    1\n",
       "323    0\n",
       "185    1\n",
       "41     0\n",
       "545    1\n",
       "Name: Survived, Length: 312, dtype: int64"
      ]
     },
     "execution_count": 26,
     "metadata": {},
     "output_type": "execute_result"
    }
   ],
   "source": [
    "label=data['Survived']\n",
    "\n",
    "X_train, X_test, y_train, y_test = train_test_split(data, label, test_size=0.35, random_state=42)\n",
    "X_train.pop('Survived')\n",
    "X_test.pop('Survived')"
   ]
  },
  {
   "cell_type": "code",
   "execution_count": 27,
   "id": "4f5f8301",
   "metadata": {},
   "outputs": [
    {
     "data": {
      "text/html": [
       "<div>\n",
       "<style scoped>\n",
       "    .dataframe tbody tr th:only-of-type {\n",
       "        vertical-align: middle;\n",
       "    }\n",
       "\n",
       "    .dataframe tbody tr th {\n",
       "        vertical-align: top;\n",
       "    }\n",
       "\n",
       "    .dataframe thead th {\n",
       "        text-align: right;\n",
       "    }\n",
       "</style>\n",
       "<table border=\"1\" class=\"dataframe\">\n",
       "  <thead>\n",
       "    <tr style=\"text-align: right;\">\n",
       "      <th></th>\n",
       "      <th>Survived</th>\n",
       "      <th>Sex</th>\n",
       "      <th>Age</th>\n",
       "      <th>SibSp</th>\n",
       "      <th>Parch</th>\n",
       "      <th>Fare</th>\n",
       "      <th>embk_C</th>\n",
       "      <th>embk_Q</th>\n",
       "      <th>embk_S</th>\n",
       "      <th>class_1</th>\n",
       "      <th>class_2</th>\n",
       "      <th>class_3</th>\n",
       "    </tr>\n",
       "  </thead>\n",
       "  <tbody>\n",
       "    <tr>\n",
       "      <th>Survived</th>\n",
       "      <td>1.000000</td>\n",
       "      <td>-0.541585</td>\n",
       "      <td>-0.069822</td>\n",
       "      <td>-0.034040</td>\n",
       "      <td>0.083151</td>\n",
       "      <td>0.255290</td>\n",
       "      <td>0.169966</td>\n",
       "      <td>0.004536</td>\n",
       "      <td>-0.151777</td>\n",
       "      <td>0.282368</td>\n",
       "      <td>0.095002</td>\n",
       "      <td>-0.320171</td>\n",
       "    </tr>\n",
       "    <tr>\n",
       "      <th>Sex</th>\n",
       "      <td>-0.541585</td>\n",
       "      <td>1.000000</td>\n",
       "      <td>0.086506</td>\n",
       "      <td>-0.116348</td>\n",
       "      <td>-0.247508</td>\n",
       "      <td>-0.179958</td>\n",
       "      <td>-0.084520</td>\n",
       "      <td>-0.075217</td>\n",
       "      <td>0.121405</td>\n",
       "      <td>-0.093142</td>\n",
       "      <td>-0.066459</td>\n",
       "      <td>0.134227</td>\n",
       "    </tr>\n",
       "    <tr>\n",
       "      <th>Age</th>\n",
       "      <td>-0.069822</td>\n",
       "      <td>0.086506</td>\n",
       "      <td>1.000000</td>\n",
       "      <td>-0.232543</td>\n",
       "      <td>-0.171485</td>\n",
       "      <td>0.093707</td>\n",
       "      <td>0.032098</td>\n",
       "      <td>-0.030436</td>\n",
       "      <td>-0.008964</td>\n",
       "      <td>0.319924</td>\n",
       "      <td>0.017724</td>\n",
       "      <td>-0.289498</td>\n",
       "    </tr>\n",
       "    <tr>\n",
       "      <th>SibSp</th>\n",
       "      <td>-0.034040</td>\n",
       "      <td>-0.116348</td>\n",
       "      <td>-0.232543</td>\n",
       "      <td>1.000000</td>\n",
       "      <td>0.414542</td>\n",
       "      <td>0.160887</td>\n",
       "      <td>-0.060074</td>\n",
       "      <td>-0.026692</td>\n",
       "      <td>0.069438</td>\n",
       "      <td>-0.052894</td>\n",
       "      <td>-0.056507</td>\n",
       "      <td>0.091515</td>\n",
       "    </tr>\n",
       "    <tr>\n",
       "      <th>Parch</th>\n",
       "      <td>0.083151</td>\n",
       "      <td>-0.247508</td>\n",
       "      <td>-0.171485</td>\n",
       "      <td>0.414542</td>\n",
       "      <td>1.000000</td>\n",
       "      <td>0.217532</td>\n",
       "      <td>-0.011588</td>\n",
       "      <td>-0.081585</td>\n",
       "      <td>0.061512</td>\n",
       "      <td>-0.015809</td>\n",
       "      <td>-0.001278</td>\n",
       "      <td>0.014634</td>\n",
       "    </tr>\n",
       "    <tr>\n",
       "      <th>Fare</th>\n",
       "      <td>0.255290</td>\n",
       "      <td>-0.179958</td>\n",
       "      <td>0.093707</td>\n",
       "      <td>0.160887</td>\n",
       "      <td>0.217532</td>\n",
       "      <td>1.000000</td>\n",
       "      <td>0.270731</td>\n",
       "      <td>-0.116684</td>\n",
       "      <td>-0.163758</td>\n",
       "      <td>0.590576</td>\n",
       "      <td>-0.117609</td>\n",
       "      <td>-0.411932</td>\n",
       "    </tr>\n",
       "    <tr>\n",
       "      <th>embk_C</th>\n",
       "      <td>0.169966</td>\n",
       "      <td>-0.084520</td>\n",
       "      <td>0.032098</td>\n",
       "      <td>-0.060074</td>\n",
       "      <td>-0.011588</td>\n",
       "      <td>0.270731</td>\n",
       "      <td>1.000000</td>\n",
       "      <td>-0.148646</td>\n",
       "      <td>-0.782613</td>\n",
       "      <td>0.299472</td>\n",
       "      <td>-0.126039</td>\n",
       "      <td>-0.154785</td>\n",
       "    </tr>\n",
       "    <tr>\n",
       "      <th>embk_Q</th>\n",
       "      <td>0.004536</td>\n",
       "      <td>-0.075217</td>\n",
       "      <td>-0.030436</td>\n",
       "      <td>-0.026692</td>\n",
       "      <td>-0.081585</td>\n",
       "      <td>-0.116684</td>\n",
       "      <td>-0.148646</td>\n",
       "      <td>1.000000</td>\n",
       "      <td>-0.499261</td>\n",
       "      <td>-0.154680</td>\n",
       "      <td>-0.127705</td>\n",
       "      <td>0.237035</td>\n",
       "    </tr>\n",
       "    <tr>\n",
       "      <th>embk_S</th>\n",
       "      <td>-0.151777</td>\n",
       "      <td>0.121405</td>\n",
       "      <td>-0.008964</td>\n",
       "      <td>0.069438</td>\n",
       "      <td>0.061512</td>\n",
       "      <td>-0.163758</td>\n",
       "      <td>-0.782613</td>\n",
       "      <td>-0.499261</td>\n",
       "      <td>1.000000</td>\n",
       "      <td>-0.165022</td>\n",
       "      <td>0.190824</td>\n",
       "      <td>-0.013594</td>\n",
       "    </tr>\n",
       "    <tr>\n",
       "      <th>class_1</th>\n",
       "      <td>0.282368</td>\n",
       "      <td>-0.093142</td>\n",
       "      <td>0.319924</td>\n",
       "      <td>-0.052894</td>\n",
       "      <td>-0.015809</td>\n",
       "      <td>0.590576</td>\n",
       "      <td>0.299472</td>\n",
       "      <td>-0.154680</td>\n",
       "      <td>-0.165022</td>\n",
       "      <td>1.000000</td>\n",
       "      <td>-0.287653</td>\n",
       "      <td>-0.625395</td>\n",
       "    </tr>\n",
       "    <tr>\n",
       "      <th>class_2</th>\n",
       "      <td>0.095002</td>\n",
       "      <td>-0.066459</td>\n",
       "      <td>0.017724</td>\n",
       "      <td>-0.056507</td>\n",
       "      <td>-0.001278</td>\n",
       "      <td>-0.117609</td>\n",
       "      <td>-0.126039</td>\n",
       "      <td>-0.127705</td>\n",
       "      <td>0.190824</td>\n",
       "      <td>-0.287653</td>\n",
       "      <td>1.000000</td>\n",
       "      <td>-0.567432</td>\n",
       "    </tr>\n",
       "    <tr>\n",
       "      <th>class_3</th>\n",
       "      <td>-0.320171</td>\n",
       "      <td>0.134227</td>\n",
       "      <td>-0.289498</td>\n",
       "      <td>0.091515</td>\n",
       "      <td>0.014634</td>\n",
       "      <td>-0.411932</td>\n",
       "      <td>-0.154785</td>\n",
       "      <td>0.237035</td>\n",
       "      <td>-0.013594</td>\n",
       "      <td>-0.625395</td>\n",
       "      <td>-0.567432</td>\n",
       "      <td>1.000000</td>\n",
       "    </tr>\n",
       "  </tbody>\n",
       "</table>\n",
       "</div>"
      ],
      "text/plain": [
       "          Survived       Sex       Age     SibSp     Parch      Fare  \\\n",
       "Survived  1.000000 -0.541585 -0.069822 -0.034040  0.083151  0.255290   \n",
       "Sex      -0.541585  1.000000  0.086506 -0.116348 -0.247508 -0.179958   \n",
       "Age      -0.069822  0.086506  1.000000 -0.232543 -0.171485  0.093707   \n",
       "SibSp    -0.034040 -0.116348 -0.232543  1.000000  0.414542  0.160887   \n",
       "Parch     0.083151 -0.247508 -0.171485  0.414542  1.000000  0.217532   \n",
       "Fare      0.255290 -0.179958  0.093707  0.160887  0.217532  1.000000   \n",
       "embk_C    0.169966 -0.084520  0.032098 -0.060074 -0.011588  0.270731   \n",
       "embk_Q    0.004536 -0.075217 -0.030436 -0.026692 -0.081585 -0.116684   \n",
       "embk_S   -0.151777  0.121405 -0.008964  0.069438  0.061512 -0.163758   \n",
       "class_1   0.282368 -0.093142  0.319924 -0.052894 -0.015809  0.590576   \n",
       "class_2   0.095002 -0.066459  0.017724 -0.056507 -0.001278 -0.117609   \n",
       "class_3  -0.320171  0.134227 -0.289498  0.091515  0.014634 -0.411932   \n",
       "\n",
       "            embk_C    embk_Q    embk_S   class_1   class_2   class_3  \n",
       "Survived  0.169966  0.004536 -0.151777  0.282368  0.095002 -0.320171  \n",
       "Sex      -0.084520 -0.075217  0.121405 -0.093142 -0.066459  0.134227  \n",
       "Age       0.032098 -0.030436 -0.008964  0.319924  0.017724 -0.289498  \n",
       "SibSp    -0.060074 -0.026692  0.069438 -0.052894 -0.056507  0.091515  \n",
       "Parch    -0.011588 -0.081585  0.061512 -0.015809 -0.001278  0.014634  \n",
       "Fare      0.270731 -0.116684 -0.163758  0.590576 -0.117609 -0.411932  \n",
       "embk_C    1.000000 -0.148646 -0.782613  0.299472 -0.126039 -0.154785  \n",
       "embk_Q   -0.148646  1.000000 -0.499261 -0.154680 -0.127705  0.237035  \n",
       "embk_S   -0.782613 -0.499261  1.000000 -0.165022  0.190824 -0.013594  \n",
       "class_1   0.299472 -0.154680 -0.165022  1.000000 -0.287653 -0.625395  \n",
       "class_2  -0.126039 -0.127705  0.190824 -0.287653  1.000000 -0.567432  \n",
       "class_3  -0.154785  0.237035 -0.013594 -0.625395 -0.567432  1.000000  "
      ]
     },
     "execution_count": 27,
     "metadata": {},
     "output_type": "execute_result"
    }
   ],
   "source": [
    "data.corr()"
   ]
  },
  {
   "cell_type": "markdown",
   "id": "618c321f",
   "metadata": {},
   "source": [
    "Després d'haver fet la neteja de dades i obtingut la matriu de correlació ens adonem compte que els principals factors que intervenen en la predicció i que tenen més importància són aquests:\n",
    "\n",
    "1. class_1, class_2 i class_3: amb uns valors de 0.282368, 0.0.095002 i -0.320171 respectivament, podem observar que quant major és el nombre de classe, menys probabilitats de sobreviure.\n",
    "2. Sex: amb un valor de -0.54, significa que quan major sigui aquest valor menor probabilitat de supervivència tindrà la persona. Això es dona ja que hem substituit home per 1 i dona per 0. Si fos al revés, és a dir, que dona fos un nombre inferior que home, aquesta correlació siria positiva, al tenir més probabilitats de sobreviure quan major sigui el nombre enter.\n",
    "3. Fare: té un valor de 0.25, indica la quantitat de diners que es varen pagar. Aquesta columna va lligada amb Pclass ja que quant més es pagava, millor classe es tenia i per tant, major % de sobreviure.\n",
    "4. embk_C, embk_Q i embk_S: amb uns valors de 0.169966, 0.004536 i -0.151777 respectivament, podem observar que si el passatger es va embarcar al vaixell a Cherbourg té més possibilitats de sobreviure que si es va embarcar a Queenstown o Southampton (encara que a priori no pareixi que hagi d'influir, si que ho fa)"
   ]
  },
  {
   "cell_type": "markdown",
   "id": "28c71a7d",
   "metadata": {},
   "source": [
    "## 3 Models de Classificació\n"
   ]
  },
  {
   "cell_type": "markdown",
   "id": "5841591d",
   "metadata": {},
   "source": [
    "### 3.1 Regressió Logística\n"
   ]
  },
  {
   "cell_type": "markdown",
   "id": "cc48fdf4",
   "metadata": {},
   "source": [
    "#### 3.1.1 Entrenament"
   ]
  },
  {
   "cell_type": "markdown",
   "id": "71aa98f2",
   "metadata": {},
   "source": [
    "En aquesta fase, entrenarem el model i mostrarem una funció que va mostrant "
   ]
  },
  {
   "cell_type": "code",
   "execution_count": 28,
   "id": "01aa4946",
   "metadata": {
    "scrolled": true
   },
   "outputs": [],
   "source": [
    "logistic_reg=linear_model.LogisticRegression()\n",
    "hist=logistic_reg.fit(X_train,y_train)\n",
    "\n",
    "# Initialize an empty list to store the losses\n",
    "losses = []\n",
    "\n",
    "# For each epoch of training\n",
    "for i in range(logistic_reg.n_iter_[0]):\n",
    "    # Get the predicted probabilities for each example in the training set\n",
    "    y_proba = logistic_reg.predict_proba(X_train)\n",
    "    \n",
    "    # Calculate the cross-entropy loss\n",
    "    loss = log_loss(y_train, y_proba)\n",
    "    \n",
    "    # Append the loss to the losses list\n",
    "    losses.append(loss)"
   ]
  },
  {
   "cell_type": "code",
   "execution_count": 29,
   "id": "46e8607e",
   "metadata": {
    "scrolled": true
   },
   "outputs": [
    {
     "data": {
      "image/png": "[encoded data removed]",
      "text/plain": [
       "<Figure size 500x350 with 1 Axes>"
      ]
     },
     "metadata": {},
     "output_type": "display_data"
    }
   ],
   "source": [
    "# Plot the loss as a function of the epoch number\n",
    "f = plt.figure()\n",
    "f.set_figwidth(5)\n",
    "f.set_figheight(3.5)\n",
    "plt.plot(range(1, len(losses)+1), losses)\n",
    "plt.xlabel('Epochs')\n",
    "plt.ylabel('Pèrdua')\n",
    "plt.show()"
   ]
  },
  {
   "cell_type": "markdown",
   "id": "e7138950",
   "metadata": {},
   "source": [
    "Aquest gràfic encara que pareixi que no ens serveix, ens demostra que el model amb 1 epoch, és a dir, un recorregut sencer sobre el dataset, ja ha aconseguit el mínim loss. Si treballessim amb datasets més grans,veuríem com aquesta pèrdua aniria disminuint, això passa sobretot en grans xarxes neuronals que tenen molts més paràmetres que la nostra regressió logística."
   ]
  },
  {
   "cell_type": "code",
   "execution_count": 30,
   "id": "3d7b7a7d",
   "metadata": {
    "scrolled": true
   },
   "outputs": [
    {
     "data": {
      "image/png": "[encoded data removed]",
      "text/plain": [
       "<Figure size 500x350 with 1 Axes>"
      ]
     },
     "metadata": {},
     "output_type": "display_data"
    }
   ],
   "source": [
    "#Obtenim la columna que volem prediure dins una variable.\n",
    "i = data\n",
    "y=i.pop('Survived')\n",
    "#Obtenim tamany de datasets, precisions d'entrenament i test per a visualitzar\n",
    "train_size_abs, train_scores, test_scores= learning_curve(\n",
    "     logistic_reg, data, y\n",
    " )\n",
    "\n",
    "\n",
    "# Gràfic per a veure com evoluciona la precisió segons el tamany del dataset\n",
    "f = plt.figure()\n",
    "f.set_figwidth(5)\n",
    "f.set_figheight(3.5)\n",
    "plt.plot(train_size_abs,np.mean(train_scores,axis=1),label='Train Score')\n",
    "plt.plot(train_size_abs,np.mean(test_scores,axis=1),label='Test Score')\n",
    "plt.xlabel('Tamany dataset Entrenament')\n",
    "plt.ylabel(\"Precisió\")\n",
    "plt.legend()\n",
    "plt.show()"
   ]
  },
  {
   "cell_type": "markdown",
   "id": "2da936bf",
   "metadata": {},
   "source": [
    "Com podem veure adalt, ens trobam aquest gràfic per a veure com canvia la precisió segons el tamany del dataset.El punt òptim és on el test score és màxim i train és un valor superior. Ens referiem a un nombre entre 250-300, és a dir un 30% aproximadament del test size.Ens podem trobar amb dues situacions possibles:\n",
    "\n",
    "1. Overfitting: si tenim poques dades i entrenam el model molts de cops amb aquestes, només es memoritzarà aquestes solucions. Es pot resoldre augmentant el nombre de dades o no realitzant tantes iteracions sobre el dataset.\n",
    "2. Underfitting: si no tenim suficients dades, al model li queda molt per aprendre i no té una precisió adequada. Es pot apreciar en el rang de 100-200, on la precisió del test va augmentant, és a dir, està aprenent.\n"
   ]
  },
  {
   "cell_type": "markdown",
   "id": "05f60792",
   "metadata": {},
   "source": [
    "#### 3.1.2 Avaluació"
   ]
  },
  {
   "cell_type": "markdown",
   "id": "5420a82e",
   "metadata": {},
   "source": [
    "Per avaluar la correctesa del nostre model utilitzarem aquestes mètriques:\n",
    "\n",
    "1. Precisió(Accuracy): es refereix al percentatge d'acerts entre total.\n",
    "2. Pèrdua(Logistic Loss): es refereix a la funció de quan enfora arriba a ser l'error de predicció del model.\n",
    "3. Puntuació F1(F1 Score): es refereix a la mitja harmònica de la precisió i el 'Rceall'. La diferència és que aquesta mètrica castiga més els valors extrems."
   ]
  },
  {
   "cell_type": "code",
   "execution_count": 31,
   "id": "df065388",
   "metadata": {},
   "outputs": [
    {
     "name": "stdout",
     "output_type": "stream",
     "text": [
      "              precision    recall  f1-score   support\n",
      "\n",
      "           0       0.84      0.86      0.85       190\n",
      "           1       0.78      0.75      0.76       122\n",
      "\n",
      "    accuracy                           0.82       312\n",
      "   macro avg       0.81      0.80      0.81       312\n",
      "weighted avg       0.82      0.82      0.82       312\n",
      "\n"
     ]
    }
   ],
   "source": [
    "prediccio=logistic_reg.predict(X_test)\n",
    "precisio=round(accuracy_score(prediccio,y_test)*100,2)\n",
    "perdua=log_loss(y_test,prediccio)\n",
    "f1=f1_score(y_test,prediccio)\n",
    "print(classification_report(y_test, prediccio))"
   ]
  },
  {
   "cell_type": "code",
   "execution_count": 32,
   "id": "dd5f993d",
   "metadata": {},
   "outputs": [
    {
     "name": "stdout",
     "output_type": "stream",
     "text": [
      "La precisió del nostre model és:  81.73\n",
      "La pèrdua del nostre model és:  6.31003539757402\n",
      "La puntuació F1 del nostre model és:  76.15\n"
     ]
    }
   ],
   "source": [
    "print('La precisió del nostre model és: ',round(accuracy_score(prediccio,y_test)*100,2))\n",
    "print('La pèrdua del nostre model és: ',perdua )\n",
    "print('La puntuació F1 del nostre model és: ',round(f1*100,2))"
   ]
  },
  {
   "cell_type": "markdown",
   "id": "ed40ed55",
   "metadata": {},
   "source": [
    "#### 3.1.3 Parameter tuning"
   ]
  },
  {
   "cell_type": "markdown",
   "id": "60044259",
   "metadata": {},
   "source": [
    "Parameter tuning es la fase on es tracta d'optimitzar la millor combinació possible de paràmetres per a millorar la precisió del model. En el nostre cas, hem escollit aquests paràmetres:\n",
    "\n",
    "1. Penalty: \n",
    "2. Tolerance:\n",
    "3. C:\n",
    "4. Solver: escollir l'algoritme d'optimització. Per defecte s'utilitza 'lbfgs'.Li donarem tots els valors possibles: ‘lbfgs’, ‘liblinear’, ‘newton-cg’, ‘newton-cholesky’, ‘sag’, ‘saga’."
   ]
  },
  {
   "cell_type": "code",
   "execution_count": 33,
   "id": "8eb67471",
   "metadata": {
    "scrolled": true
   },
   "outputs": [],
   "source": [
    "penal=['l1', 'l2', 'elasticnet', None]\n",
    "tole=np.arange(1e-4,0.01,0.0005)\n",
    "Ce=np.logspace(-3,3,7)\n",
    "solv=['lbfgs','liblinear','newton-cg','newton-cholesky','sag','saga']\n",
    "parameters={'penalty':penal,'tol':tole,'C':Ce,'solver':solv}\n",
    "grid=GridSearchCV(estimator=logistic_reg,param_grid=parameters,cv = 2, n_jobs=-1)"
   ]
  },
  {
   "cell_type": "code",
   "execution_count": 34,
   "id": "4a2ea0da",
   "metadata": {},
   "outputs": [
    {
     "name": "stderr",
     "output_type": "stream",
     "text": [
      "C:\\Users\\Jaume\\miniconda3\\envs\\ia2022\\lib\\site-packages\\sklearn\\model_selection\\_validation.py:378: FitFailedWarning: \n",
      "4760 fits failed out of a total of 6720.\n",
      "The score on these train-test partitions for these parameters will be set to nan.\n",
      "If these failures are not expected, you can try to debug them by setting error_score='raise'.\n",
      "\n",
      "Below are more details about the failures:\n",
      "--------------------------------------------------------------------------------\n",
      "280 fits failed with the following error:\n",
      "Traceback (most recent call last):\n",
      "  File \"C:\\Users\\Jaume\\miniconda3\\envs\\ia2022\\lib\\site-packages\\sklearn\\model_selection\\_validation.py\", line 686, in _fit_and_score\n",
      "    estimator.fit(X_train, y_train, **fit_params)\n",
      "  File \"C:\\Users\\Jaume\\miniconda3\\envs\\ia2022\\lib\\site-packages\\sklearn\\linear_model\\_logistic.py\", line 1091, in fit\n",
      "    solver = _check_solver(self.solver, self.penalty, self.dual)\n",
      "  File \"C:\\Users\\Jaume\\miniconda3\\envs\\ia2022\\lib\\site-packages\\sklearn\\linear_model\\_logistic.py\", line 61, in _check_solver\n",
      "    raise ValueError(\n",
      "ValueError: Solver lbfgs supports only 'l2' or 'none' penalties, got l1 penalty.\n",
      "\n",
      "--------------------------------------------------------------------------------\n",
      "280 fits failed with the following error:\n",
      "Traceback (most recent call last):\n",
      "  File \"C:\\Users\\Jaume\\miniconda3\\envs\\ia2022\\lib\\site-packages\\sklearn\\model_selection\\_validation.py\", line 686, in _fit_and_score\n",
      "    estimator.fit(X_train, y_train, **fit_params)\n",
      "  File \"C:\\Users\\Jaume\\miniconda3\\envs\\ia2022\\lib\\site-packages\\sklearn\\linear_model\\_logistic.py\", line 1091, in fit\n",
      "    solver = _check_solver(self.solver, self.penalty, self.dual)\n",
      "  File \"C:\\Users\\Jaume\\miniconda3\\envs\\ia2022\\lib\\site-packages\\sklearn\\linear_model\\_logistic.py\", line 61, in _check_solver\n",
      "    raise ValueError(\n",
      "ValueError: Solver newton-cg supports only 'l2' or 'none' penalties, got l1 penalty.\n",
      "\n",
      "--------------------------------------------------------------------------------\n",
      "1120 fits failed with the following error:\n",
      "Traceback (most recent call last):\n",
      "  File \"C:\\Users\\Jaume\\miniconda3\\envs\\ia2022\\lib\\site-packages\\sklearn\\model_selection\\_validation.py\", line 686, in _fit_and_score\n",
      "    estimator.fit(X_train, y_train, **fit_params)\n",
      "  File \"C:\\Users\\Jaume\\miniconda3\\envs\\ia2022\\lib\\site-packages\\sklearn\\linear_model\\_logistic.py\", line 1091, in fit\n",
      "    solver = _check_solver(self.solver, self.penalty, self.dual)\n",
      "  File \"C:\\Users\\Jaume\\miniconda3\\envs\\ia2022\\lib\\site-packages\\sklearn\\linear_model\\_logistic.py\", line 48, in _check_solver\n",
      "    raise ValueError(\n",
      "ValueError: Logistic Regression supports only solvers in ['liblinear', 'newton-cg', 'lbfgs', 'sag', 'saga'], got newton-cholesky.\n",
      "\n",
      "--------------------------------------------------------------------------------\n",
      "280 fits failed with the following error:\n",
      "Traceback (most recent call last):\n",
      "  File \"C:\\Users\\Jaume\\miniconda3\\envs\\ia2022\\lib\\site-packages\\sklearn\\model_selection\\_validation.py\", line 686, in _fit_and_score\n",
      "    estimator.fit(X_train, y_train, **fit_params)\n",
      "  File \"C:\\Users\\Jaume\\miniconda3\\envs\\ia2022\\lib\\site-packages\\sklearn\\linear_model\\_logistic.py\", line 1091, in fit\n",
      "    solver = _check_solver(self.solver, self.penalty, self.dual)\n",
      "  File \"C:\\Users\\Jaume\\miniconda3\\envs\\ia2022\\lib\\site-packages\\sklearn\\linear_model\\_logistic.py\", line 61, in _check_solver\n",
      "    raise ValueError(\n",
      "ValueError: Solver sag supports only 'l2' or 'none' penalties, got l1 penalty.\n",
      "\n",
      "--------------------------------------------------------------------------------\n",
      "280 fits failed with the following error:\n",
      "Traceback (most recent call last):\n",
      "  File \"C:\\Users\\Jaume\\miniconda3\\envs\\ia2022\\lib\\site-packages\\sklearn\\model_selection\\_validation.py\", line 686, in _fit_and_score\n",
      "    estimator.fit(X_train, y_train, **fit_params)\n",
      "  File \"C:\\Users\\Jaume\\miniconda3\\envs\\ia2022\\lib\\site-packages\\sklearn\\linear_model\\_logistic.py\", line 1091, in fit\n",
      "    solver = _check_solver(self.solver, self.penalty, self.dual)\n",
      "  File \"C:\\Users\\Jaume\\miniconda3\\envs\\ia2022\\lib\\site-packages\\sklearn\\linear_model\\_logistic.py\", line 61, in _check_solver\n",
      "    raise ValueError(\n",
      "ValueError: Solver lbfgs supports only 'l2' or 'none' penalties, got elasticnet penalty.\n",
      "\n",
      "--------------------------------------------------------------------------------\n",
      "280 fits failed with the following error:\n",
      "Traceback (most recent call last):\n",
      "  File \"C:\\Users\\Jaume\\miniconda3\\envs\\ia2022\\lib\\site-packages\\sklearn\\model_selection\\_validation.py\", line 686, in _fit_and_score\n",
      "    estimator.fit(X_train, y_train, **fit_params)\n",
      "  File \"C:\\Users\\Jaume\\miniconda3\\envs\\ia2022\\lib\\site-packages\\sklearn\\linear_model\\_logistic.py\", line 1091, in fit\n",
      "    solver = _check_solver(self.solver, self.penalty, self.dual)\n",
      "  File \"C:\\Users\\Jaume\\miniconda3\\envs\\ia2022\\lib\\site-packages\\sklearn\\linear_model\\_logistic.py\", line 71, in _check_solver\n",
      "    raise ValueError(\n",
      "ValueError: Only 'saga' solver supports elasticnet penalty, got solver=liblinear.\n",
      "\n",
      "--------------------------------------------------------------------------------\n",
      "280 fits failed with the following error:\n",
      "Traceback (most recent call last):\n",
      "  File \"C:\\Users\\Jaume\\miniconda3\\envs\\ia2022\\lib\\site-packages\\sklearn\\model_selection\\_validation.py\", line 686, in _fit_and_score\n",
      "    estimator.fit(X_train, y_train, **fit_params)\n",
      "  File \"C:\\Users\\Jaume\\miniconda3\\envs\\ia2022\\lib\\site-packages\\sklearn\\linear_model\\_logistic.py\", line 1091, in fit\n",
      "    solver = _check_solver(self.solver, self.penalty, self.dual)\n",
      "  File \"C:\\Users\\Jaume\\miniconda3\\envs\\ia2022\\lib\\site-packages\\sklearn\\linear_model\\_logistic.py\", line 61, in _check_solver\n",
      "    raise ValueError(\n",
      "ValueError: Solver newton-cg supports only 'l2' or 'none' penalties, got elasticnet penalty.\n",
      "\n",
      "--------------------------------------------------------------------------------\n",
      "280 fits failed with the following error:\n",
      "Traceback (most recent call last):\n",
      "  File \"C:\\Users\\Jaume\\miniconda3\\envs\\ia2022\\lib\\site-packages\\sklearn\\model_selection\\_validation.py\", line 686, in _fit_and_score\n",
      "    estimator.fit(X_train, y_train, **fit_params)\n",
      "  File \"C:\\Users\\Jaume\\miniconda3\\envs\\ia2022\\lib\\site-packages\\sklearn\\linear_model\\_logistic.py\", line 1091, in fit\n",
      "    solver = _check_solver(self.solver, self.penalty, self.dual)\n",
      "  File \"C:\\Users\\Jaume\\miniconda3\\envs\\ia2022\\lib\\site-packages\\sklearn\\linear_model\\_logistic.py\", line 61, in _check_solver\n",
      "    raise ValueError(\n",
      "ValueError: Solver sag supports only 'l2' or 'none' penalties, got elasticnet penalty.\n",
      "\n",
      "--------------------------------------------------------------------------------\n",
      "280 fits failed with the following error:\n",
      "Traceback (most recent call last):\n",
      "  File \"C:\\Users\\Jaume\\miniconda3\\envs\\ia2022\\lib\\site-packages\\sklearn\\model_selection\\_validation.py\", line 686, in _fit_and_score\n",
      "    estimator.fit(X_train, y_train, **fit_params)\n",
      "  File \"C:\\Users\\Jaume\\miniconda3\\envs\\ia2022\\lib\\site-packages\\sklearn\\linear_model\\_logistic.py\", line 1101, in fit\n",
      "    raise ValueError(\n",
      "ValueError: l1_ratio must be between 0 and 1; got (l1_ratio=None)\n",
      "\n",
      "--------------------------------------------------------------------------------\n",
      "1400 fits failed with the following error:\n",
      "Traceback (most recent call last):\n",
      "  File \"C:\\Users\\Jaume\\miniconda3\\envs\\ia2022\\lib\\site-packages\\sklearn\\model_selection\\_validation.py\", line 686, in _fit_and_score\n",
      "    estimator.fit(X_train, y_train, **fit_params)\n",
      "  File \"C:\\Users\\Jaume\\miniconda3\\envs\\ia2022\\lib\\site-packages\\sklearn\\linear_model\\_logistic.py\", line 1091, in fit\n",
      "    solver = _check_solver(self.solver, self.penalty, self.dual)\n",
      "  File \"C:\\Users\\Jaume\\miniconda3\\envs\\ia2022\\lib\\site-packages\\sklearn\\linear_model\\_logistic.py\", line 55, in _check_solver\n",
      "    raise ValueError(\n",
      "ValueError: Logistic Regression supports only penalties in ['l1', 'l2', 'elasticnet', 'none'], got None.\n",
      "\n",
      "  warnings.warn(some_fits_failed_message, FitFailedWarning)\n",
      "C:\\Users\\Jaume\\miniconda3\\envs\\ia2022\\lib\\site-packages\\sklearn\\model_selection\\_search.py:953: UserWarning: One or more of the test scores are non-finite: [nan nan nan ... nan nan nan]\n",
      "  warnings.warn(\n"
     ]
    },
    {
     "data": {
      "text/plain": [
       "{'C': 1.0, 'penalty': 'l2', 'solver': 'lbfgs', 'tol': 0.0001}"
      ]
     },
     "execution_count": 34,
     "metadata": {},
     "output_type": "execute_result"
    }
   ],
   "source": [
    "grid.fit(X_train, y_train);\n",
    "grid.best_params_\n"
   ]
  },
  {
   "cell_type": "markdown",
   "id": "8a829166",
   "metadata": {},
   "source": [
    "Els millors paràmetres són els següents:\n",
    "\n",
    "1. C: 1.0\n",
    "3. Penalty: 'l2'\n",
    "3. Solver: 'sag'\n",
    "4. Tol: '0.0081'"
   ]
  },
  {
   "cell_type": "markdown",
   "id": "b18de70f",
   "metadata": {},
   "source": [
    "#### 3.1.4 Avaluació amb paràmetres òptims"
   ]
  },
  {
   "cell_type": "markdown",
   "id": "d08ba3fe",
   "metadata": {},
   "source": [
    "Després d'haver utilitzat la tècnica del parameter tuning i haver provat el model amb tantes combinacions diferentes com desitjat, l'avaluarem de nou i compararem la millora."
   ]
  },
  {
   "cell_type": "code",
   "execution_count": 60,
   "id": "4d7901b1",
   "metadata": {},
   "outputs": [
    {
     "name": "stdout",
     "output_type": "stream",
     "text": [
      "              precision    recall  f1-score   support\n",
      "\n",
      "           0       0.84      0.87      0.85       190\n",
      "           1       0.78      0.75      0.76       122\n",
      "\n",
      "    accuracy                           0.82       312\n",
      "   macro avg       0.81      0.81      0.81       312\n",
      "weighted avg       0.82      0.82      0.82       312\n",
      "\n",
      "La precisió del nostre model és:  82.05\n",
      "La pèrdua del nostre model és:  6.1993316283677995\n",
      "La puntuació F1 del nostre model és:  76.47\n"
     ]
    }
   ],
   "source": [
    "\n",
    "logistic_reg=linear_model.LogisticRegression(C=1.0,penalty= 'l2',solver='sag',tol=0.0081)\n",
    "hist=logistic_reg.fit(X_train,y_train)\n",
    "\n",
    "\n",
    "prediccio=logistic_reg.predict(X_test)\n",
    "precisio2=round(accuracy_score(prediccio,y_test)*100,2)\n",
    "perdua2=log_loss(y_test,prediccio)\n",
    "f12=f1_score(y_test,prediccio)\n",
    "print(classification_report(y_test, prediccio))\n",
    "\n",
    "print('La precisió del nostre model és: ',precisio2)\n",
    "print('La pèrdua del nostre model és: ',perdua2 )\n",
    "print('La puntuació F1 del nostre model és: ',round(f12*100,2))"
   ]
  },
  {
   "cell_type": "markdown",
   "id": "706f41db",
   "metadata": {},
   "source": [
    "#### 3.1.5 Comparació inicial vs optimitzat"
   ]
  },
  {
   "cell_type": "markdown",
   "id": "ee2859a3",
   "metadata": {},
   "source": []
  },
  {
   "cell_type": "code",
   "execution_count": 69,
   "id": "e6ba48a0",
   "metadata": {},
   "outputs": [
    {
     "data": {
      "text/html": [
       "<div>\n",
       "<style scoped>\n",
       "    .dataframe tbody tr th:only-of-type {\n",
       "        vertical-align: middle;\n",
       "    }\n",
       "\n",
       "    .dataframe tbody tr th {\n",
       "        vertical-align: top;\n",
       "    }\n",
       "\n",
       "    .dataframe thead th {\n",
       "        text-align: right;\n",
       "    }\n",
       "</style>\n",
       "<table border=\"1\" class=\"dataframe\">\n",
       "  <thead>\n",
       "    <tr style=\"text-align: right;\">\n",
       "      <th></th>\n",
       "      <th>Precisió</th>\n",
       "      <th>Pèrdua</th>\n",
       "      <th>F1 Score</th>\n",
       "    </tr>\n",
       "  </thead>\n",
       "  <tbody>\n",
       "    <tr>\n",
       "      <th>0</th>\n",
       "      <td>81.73</td>\n",
       "      <td>6.199332</td>\n",
       "      <td>0.764706</td>\n",
       "    </tr>\n",
       "    <tr>\n",
       "      <th>1</th>\n",
       "      <td>82.05</td>\n",
       "      <td>6.199332</td>\n",
       "      <td>0.764706</td>\n",
       "    </tr>\n",
       "  </tbody>\n",
       "</table>\n",
       "</div>"
      ],
      "text/plain": [
       "   Precisió    Pèrdua  F1 Score\n",
       "0     81.73  6.199332  0.764706\n",
       "1     82.05  6.199332  0.764706"
      ]
     },
     "execution_count": 69,
     "metadata": {},
     "output_type": "execute_result"
    }
   ],
   "source": [
    "Precisio=[precisio,precisio2]\n",
    "perdues=[perdua,perdua2]\n",
    "precisionsF1=[f1,f12]\n",
    "matriu=zip(Precisio,perdues,precisionsF1)\n",
    "taula_Comparacio=pd.DataFrame(matriu,columns=['Precisió','Pèrdua','F1 Score'])\n",
    "taula_Comparacio"
   ]
  },
  {
   "cell_type": "markdown",
   "id": "d7a8a3f3",
   "metadata": {},
   "source": [
    "### 3.2 Perceptró"
   ]
  },
  {
   "cell_type": "markdown",
   "id": "d7ab276a",
   "metadata": {},
   "source": [
    "#### 3.2.1 Entrenament"
   ]
  },
  {
   "cell_type": "markdown",
   "id": "cb4cee2f",
   "metadata": {},
   "source": [
    "El primer que hem de fer és dividir les dades que hem modificat entre train i test. Ho fem amb la llibreria sk-learn."
   ]
  },
  {
   "cell_type": "code",
   "execution_count": 37,
   "id": "b15799c4",
   "metadata": {},
   "outputs": [
    {
     "ename": "KeyError",
     "evalue": "'Survived'",
     "output_type": "error",
     "traceback": [
      "\u001b[1;31m---------------------------------------------------------------------------\u001b[0m",
      "\u001b[1;31mKeyError\u001b[0m                                  Traceback (most recent call last)",
      "File \u001b[1;32m~\\miniconda3\\envs\\ia2022\\lib\\site-packages\\pandas\\core\\indexes\\base.py:3629\u001b[0m, in \u001b[0;36mIndex.get_loc\u001b[1;34m(self, key, method, tolerance)\u001b[0m\n\u001b[0;32m   3628\u001b[0m \u001b[38;5;28;01mtry\u001b[39;00m:\n\u001b[1;32m-> 3629\u001b[0m     \u001b[38;5;28;01mreturn\u001b[39;00m \u001b[38;5;28;43mself\u001b[39;49m\u001b[38;5;241;43m.\u001b[39;49m\u001b[43m_engine\u001b[49m\u001b[38;5;241;43m.\u001b[39;49m\u001b[43mget_loc\u001b[49m\u001b[43m(\u001b[49m\u001b[43mcasted_key\u001b[49m\u001b[43m)\u001b[49m\n\u001b[0;32m   3630\u001b[0m \u001b[38;5;28;01mexcept\u001b[39;00m \u001b[38;5;167;01mKeyError\u001b[39;00m \u001b[38;5;28;01mas\u001b[39;00m err:\n",
      "File \u001b[1;32m~\\miniconda3\\envs\\ia2022\\lib\\site-packages\\pandas\\_libs\\index.pyx:136\u001b[0m, in \u001b[0;36mpandas._libs.index.IndexEngine.get_loc\u001b[1;34m()\u001b[0m\n",
      "File \u001b[1;32m~\\miniconda3\\envs\\ia2022\\lib\\site-packages\\pandas\\_libs\\index.pyx:163\u001b[0m, in \u001b[0;36mpandas._libs.index.IndexEngine.get_loc\u001b[1;34m()\u001b[0m\n",
      "File \u001b[1;32mpandas\\_libs\\hashtable_class_helper.pxi:5198\u001b[0m, in \u001b[0;36mpandas._libs.hashtable.PyObjectHashTable.get_item\u001b[1;34m()\u001b[0m\n",
      "File \u001b[1;32mpandas\\_libs\\hashtable_class_helper.pxi:5206\u001b[0m, in \u001b[0;36mpandas._libs.hashtable.PyObjectHashTable.get_item\u001b[1;34m()\u001b[0m\n",
      "\u001b[1;31mKeyError\u001b[0m: 'Survived'",
      "\nThe above exception was the direct cause of the following exception:\n",
      "\u001b[1;31mKeyError\u001b[0m                                  Traceback (most recent call last)",
      "Cell \u001b[1;32mIn [37], line 1\u001b[0m\n\u001b[1;32m----> 1\u001b[0m label\u001b[38;5;241m=\u001b[39m\u001b[43mdata\u001b[49m\u001b[43m[\u001b[49m\u001b[38;5;124;43m'\u001b[39;49m\u001b[38;5;124;43mSurvived\u001b[39;49m\u001b[38;5;124;43m'\u001b[39;49m\u001b[43m]\u001b[49m\n\u001b[0;32m      2\u001b[0m \u001b[38;5;66;03m# Separem les dades en train i test\u001b[39;00m\n\u001b[0;32m      3\u001b[0m X_train, X_test, y_train, y_test \u001b[38;5;241m=\u001b[39m train_test_split(data, label, test_size\u001b[38;5;241m=\u001b[39m\u001b[38;5;241m0.35\u001b[39m, random_state\u001b[38;5;241m=\u001b[39m\u001b[38;5;241m42\u001b[39m)\n",
      "File \u001b[1;32m~\\miniconda3\\envs\\ia2022\\lib\\site-packages\\pandas\\core\\frame.py:3505\u001b[0m, in \u001b[0;36mDataFrame.__getitem__\u001b[1;34m(self, key)\u001b[0m\n\u001b[0;32m   3503\u001b[0m \u001b[38;5;28;01mif\u001b[39;00m \u001b[38;5;28mself\u001b[39m\u001b[38;5;241m.\u001b[39mcolumns\u001b[38;5;241m.\u001b[39mnlevels \u001b[38;5;241m>\u001b[39m \u001b[38;5;241m1\u001b[39m:\n\u001b[0;32m   3504\u001b[0m     \u001b[38;5;28;01mreturn\u001b[39;00m \u001b[38;5;28mself\u001b[39m\u001b[38;5;241m.\u001b[39m_getitem_multilevel(key)\n\u001b[1;32m-> 3505\u001b[0m indexer \u001b[38;5;241m=\u001b[39m \u001b[38;5;28;43mself\u001b[39;49m\u001b[38;5;241;43m.\u001b[39;49m\u001b[43mcolumns\u001b[49m\u001b[38;5;241;43m.\u001b[39;49m\u001b[43mget_loc\u001b[49m\u001b[43m(\u001b[49m\u001b[43mkey\u001b[49m\u001b[43m)\u001b[49m\n\u001b[0;32m   3506\u001b[0m \u001b[38;5;28;01mif\u001b[39;00m is_integer(indexer):\n\u001b[0;32m   3507\u001b[0m     indexer \u001b[38;5;241m=\u001b[39m [indexer]\n",
      "File \u001b[1;32m~\\miniconda3\\envs\\ia2022\\lib\\site-packages\\pandas\\core\\indexes\\base.py:3631\u001b[0m, in \u001b[0;36mIndex.get_loc\u001b[1;34m(self, key, method, tolerance)\u001b[0m\n\u001b[0;32m   3629\u001b[0m     \u001b[38;5;28;01mreturn\u001b[39;00m \u001b[38;5;28mself\u001b[39m\u001b[38;5;241m.\u001b[39m_engine\u001b[38;5;241m.\u001b[39mget_loc(casted_key)\n\u001b[0;32m   3630\u001b[0m \u001b[38;5;28;01mexcept\u001b[39;00m \u001b[38;5;167;01mKeyError\u001b[39;00m \u001b[38;5;28;01mas\u001b[39;00m err:\n\u001b[1;32m-> 3631\u001b[0m     \u001b[38;5;28;01mraise\u001b[39;00m \u001b[38;5;167;01mKeyError\u001b[39;00m(key) \u001b[38;5;28;01mfrom\u001b[39;00m \u001b[38;5;21;01merr\u001b[39;00m\n\u001b[0;32m   3632\u001b[0m \u001b[38;5;28;01mexcept\u001b[39;00m \u001b[38;5;167;01mTypeError\u001b[39;00m:\n\u001b[0;32m   3633\u001b[0m     \u001b[38;5;66;03m# If we have a listlike key, _check_indexing_error will raise\u001b[39;00m\n\u001b[0;32m   3634\u001b[0m     \u001b[38;5;66;03m#  InvalidIndexError. Otherwise we fall through and re-raise\u001b[39;00m\n\u001b[0;32m   3635\u001b[0m     \u001b[38;5;66;03m#  the TypeError.\u001b[39;00m\n\u001b[0;32m   3636\u001b[0m     \u001b[38;5;28mself\u001b[39m\u001b[38;5;241m.\u001b[39m_check_indexing_error(key)\n",
      "\u001b[1;31mKeyError\u001b[0m: 'Survived'"
     ]
    }
   ],
   "source": [
    "label=data['Survived']\n",
    "# Separem les dades en train i test\n",
    "X_train, X_test, y_train, y_test = train_test_split(data, label, test_size=0.35, random_state=42)\n",
    "X_train.pop('Survived');\n",
    "X_test.pop('Survived');"
   ]
  },
  {
   "cell_type": "markdown",
   "id": "0f5f2d99",
   "metadata": {},
   "source": [
    "Una vegada dividides les dades, passarem aa entrenar el classificador perceptró amb les dades de train."
   ]
  },
  {
   "cell_type": "code",
   "execution_count": null,
   "id": "7037a564",
   "metadata": {},
   "outputs": [],
   "source": [
    "# Entrenem el classificador\n",
    "percep = linear_model.Perceptron(tol=1e-3, random_state=42)\n",
    "percep.fit(X_train, y_train);"
   ]
  },
  {
   "cell_type": "markdown",
   "id": "28950844",
   "metadata": {},
   "source": [
    "#### 3.2.1 Avaluació"
   ]
  },
  {
   "cell_type": "code",
   "execution_count": null,
   "id": "04295fff",
   "metadata": {},
   "outputs": [],
   "source": [
    "pred = percep.predict(X_test)"
   ]
  },
  {
   "cell_type": "code",
   "execution_count": null,
   "id": "e8b6f31b",
   "metadata": {},
   "outputs": [],
   "source": [
    "print('The accuracy of the Logistic Regression is',round(accuracy_score(pred,y_test)*100,2))"
   ]
  },
  {
   "cell_type": "code",
   "execution_count": null,
   "id": "d608a66d",
   "metadata": {},
   "outputs": [],
   "source": [
    "print(classification_report(y_test, pred))"
   ]
  },
  {
   "cell_type": "markdown",
   "id": "b15d6995",
   "metadata": {},
   "source": [
    "#### 3.2.3 Parameter tuning"
   ]
  },
  {
   "cell_type": "code",
   "execution_count": null,
   "id": "b2ef904a",
   "metadata": {},
   "outputs": [],
   "source": []
  },
  {
   "cell_type": "markdown",
   "id": "8c3db26d",
   "metadata": {},
   "source": [
    "## 1.4 Avaluació\n"
   ]
  },
  {
   "cell_type": "code",
   "execution_count": null,
   "id": "1debbf3d",
   "metadata": {},
   "outputs": [],
   "source": [
    "prediccio=logistic_reg.predict(X_test)\n",
    "print('The accuracy of the Logistic Regression is',round(accuracy_score(prediccio,y_test)*100,2))"
   ]
  },
  {
   "cell_type": "markdown",
   "id": "f65a6658",
   "metadata": {},
   "source": [
    "## 1.5 Funció avaluació segons test size\n"
   ]
  },
  {
   "cell_type": "code",
   "execution_count": null,
   "id": "bf8522ab",
   "metadata": {},
   "outputs": [],
   "source": [
    "x=np.arange(0.05, 0.80, 0.01, dtype=float)\n",
    "y=[]\n",
    "for i in x:\n",
    "    X_train, X_test, y_train, y_test = train_test_split(data, label, test_size=i, random_state=42)\n",
    "    logistic_reg=linear_model.LogisticRegression()\n",
    "    hist=logistic_reg.fit(X_train,y_train)\n",
    "    prediccio=logistic_reg.predict(X_test)\n",
    "    y.append(round(accuracy_score(prediccio,y_test)*100,2))"
   ]
  },
  {
   "cell_type": "code",
   "execution_count": null,
   "id": "aa8d694e",
   "metadata": {},
   "outputs": [],
   "source": [
    "y\n",
    "plt.plot(x,y)\n",
    "plt.show\n",
    "plt.legend(\"percentatge de precisió segons la distribució train-test\",loc=\"upper right\")"
   ]
  },
  {
   "cell_type": "code",
   "execution_count": null,
   "id": "4ebe4f4d",
   "metadata": {},
   "outputs": [],
   "source": [
    "percep=linear_model.Perceptron()\n",
    "percep.fit(X_train,y_train)\n",
    "importance=percep.coef_\n",
    "print(importance)\n",
    "# plot feature importance"
   ]
  },
  {
   "cell_type": "code",
   "execution_count": null,
   "id": "4f7f702e",
   "metadata": {},
   "outputs": [],
   "source": [
    "predict=percep.predict(X_test)\n"
   ]
  },
  {
   "cell_type": "code",
   "execution_count": null,
   "id": "9400a3aa",
   "metadata": {},
   "outputs": [],
   "source": [
    "x=np.arange(0.05, 0.80, 0.01, dtype=float)\n",
    "y=[]\n",
    "for i in x:\n",
    "    X_train, X_test, y_train, y_test = train_test_split(data, label, test_size=i, random_state=42)\n",
    "    X_train.pop('Survived')\n",
    "    X_test.pop('Survived')\n",
    "    percep=linear_model.Perceptron(tol=1e-3,random_state=0)\n",
    "    percep.fit(X_train,y_train)\n",
    "    prediccio=logistic_reg.predict(X_test)\n",
    "    y.append(round(accuracy_score(prediccio,y_test)*100,2))"
   ]
  },
  {
   "cell_type": "code",
   "execution_count": null,
   "id": "c7181ce5",
   "metadata": {},
   "outputs": [],
   "source": [
    "y\n",
    "plt.plot(x,y)\n",
    "plt.show\n",
    "plt.legend(\"hola\",loc=\"upper right\")"
   ]
  },
  {
   "cell_type": "code",
   "execution_count": null,
   "id": "dc55c012",
   "metadata": {},
   "outputs": [],
   "source": [
    "print(\"Accuracy: \"+str(accuracy_score(predict,y_test)))"
   ]
  },
  {
   "cell_type": "code",
   "execution_count": null,
   "id": "5b05f942",
   "metadata": {},
   "outputs": [],
   "source": [
    "from sklearn import tree"
   ]
  },
  {
   "cell_type": "code",
   "execution_count": null,
   "id": "2d468938",
   "metadata": {},
   "outputs": [],
   "source": [
    "decision_tree = tree.DecisionTreeClassifier(max_depth = 4)\n",
    "decision_tree.fit(X_train, y_train)\n",
    "predict=decision_tree.predict(X_test)\n",
    "print(\"Accuracy: \"+str(accuracy_score(predict,y_test)))"
   ]
  }
 ],
 "metadata": {
  "kernelspec": {
   "display_name": "Python 3 (ipykernel)",
   "language": "python",
   "name": "python3"
  },
  "language_info": {
   "codemirror_mode": {
    "name": "ipython",
    "version": 3
   },
   "file_extension": ".py",
   "mimetype": "text/x-python",
   "name": "python",
   "nbconvert_exporter": "python",
   "pygments_lexer": "ipython3",
   "version": "3.10.4"
  }
 },
 "nbformat": 4,
 "nbformat_minor": 5
}
